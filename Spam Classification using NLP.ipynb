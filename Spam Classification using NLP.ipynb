{
 "cells": [
  {
   "cell_type": "code",
   "execution_count": 1,
   "id": "ce643104-0c2d-492e-8760-2a7c87c1d7e7",
   "metadata": {},
   "outputs": [],
   "source": [
    "import pandas as pd\n",
    "import matplotlib.pyplot as plt\n",
    "%matplotlib inline\n",
    "import seaborn as sns"
   ]
  },
  {
   "cell_type": "code",
   "execution_count": 2,
   "id": "91596f7b-b41b-48ae-ade2-e35b016f6b04",
   "metadata": {},
   "outputs": [],
   "source": [
    "df=pd.read_csv(\"C:/Users/SOUMYA/Downloads/SMSSpamCollection\",sep=\"\\t\",names=[\"lebel\",\"messege\"])"
   ]
  },
  {
   "cell_type": "code",
   "execution_count": 3,
   "id": "25ebc242-dc9f-41b2-bbfa-fb21fb46d1db",
   "metadata": {},
   "outputs": [
    {
     "data": {
      "text/plain": [
       "(5572, 2)"
      ]
     },
     "execution_count": 3,
     "metadata": {},
     "output_type": "execute_result"
    }
   ],
   "source": [
    "df.shape"
   ]
  },
  {
   "cell_type": "code",
   "execution_count": 4,
   "id": "dc455334-cab1-4fe2-b10f-699311216969",
   "metadata": {},
   "outputs": [
    {
     "data": {
      "text/html": [
       "<div>\n",
       "<style scoped>\n",
       "    .dataframe tbody tr th:only-of-type {\n",
       "        vertical-align: middle;\n",
       "    }\n",
       "\n",
       "    .dataframe tbody tr th {\n",
       "        vertical-align: top;\n",
       "    }\n",
       "\n",
       "    .dataframe thead th {\n",
       "        text-align: right;\n",
       "    }\n",
       "</style>\n",
       "<table border=\"1\" class=\"dataframe\">\n",
       "  <thead>\n",
       "    <tr style=\"text-align: right;\">\n",
       "      <th></th>\n",
       "      <th>lebel</th>\n",
       "      <th>messege</th>\n",
       "    </tr>\n",
       "  </thead>\n",
       "  <tbody>\n",
       "    <tr>\n",
       "      <th>0</th>\n",
       "      <td>ham</td>\n",
       "      <td>Go until jurong point, crazy.. Available only ...</td>\n",
       "    </tr>\n",
       "    <tr>\n",
       "      <th>1</th>\n",
       "      <td>ham</td>\n",
       "      <td>Ok lar... Joking wif u oni...</td>\n",
       "    </tr>\n",
       "    <tr>\n",
       "      <th>2</th>\n",
       "      <td>spam</td>\n",
       "      <td>Free entry in 2 a wkly comp to win FA Cup fina...</td>\n",
       "    </tr>\n",
       "    <tr>\n",
       "      <th>3</th>\n",
       "      <td>ham</td>\n",
       "      <td>U dun say so early hor... U c already then say...</td>\n",
       "    </tr>\n",
       "    <tr>\n",
       "      <th>4</th>\n",
       "      <td>ham</td>\n",
       "      <td>Nah I don't think he goes to usf, he lives aro...</td>\n",
       "    </tr>\n",
       "  </tbody>\n",
       "</table>\n",
       "</div>"
      ],
      "text/plain": [
       "  lebel                                            messege\n",
       "0   ham  Go until jurong point, crazy.. Available only ...\n",
       "1   ham                      Ok lar... Joking wif u oni...\n",
       "2  spam  Free entry in 2 a wkly comp to win FA Cup fina...\n",
       "3   ham  U dun say so early hor... U c already then say...\n",
       "4   ham  Nah I don't think he goes to usf, he lives aro..."
      ]
     },
     "execution_count": 4,
     "metadata": {},
     "output_type": "execute_result"
    }
   ],
   "source": [
    "df.head()"
   ]
  },
  {
   "cell_type": "code",
   "execution_count": 5,
   "id": "f0c13ba8-c2a9-4ccc-8021-27b2da9048c1",
   "metadata": {},
   "outputs": [
    {
     "data": {
      "text/plain": [
       "lebel\n",
       "ham     4825\n",
       "spam     747\n",
       "Name: count, dtype: int64"
      ]
     },
     "execution_count": 5,
     "metadata": {},
     "output_type": "execute_result"
    }
   ],
   "source": [
    "df[\"lebel\"].value_counts()"
   ]
  },
  {
   "cell_type": "code",
   "execution_count": 6,
   "id": "2002ca3e-7f38-481a-80c7-4b3719b5df90",
   "metadata": {},
   "outputs": [
    {
     "data": {
      "text/plain": [
       "5572"
      ]
     },
     "execution_count": 6,
     "metadata": {},
     "output_type": "execute_result"
    }
   ],
   "source": [
    "len(df)"
   ]
  },
  {
   "cell_type": "code",
   "execution_count": 7,
   "id": "3cec8ab7-203b-4afb-a6e3-2cd59317e0aa",
   "metadata": {},
   "outputs": [
    {
     "data": {
      "text/plain": [
       "<Axes: xlabel='lebel', ylabel='count'>"
      ]
     },
     "execution_count": 7,
     "metadata": {},
     "output_type": "execute_result"
    },
    {
     "data": {
      "image/png": "[encoded data removed]",
      "text/plain": [
       "<Figure size 640x480 with 1 Axes>"
      ]
     },
     "metadata": {},
     "output_type": "display_data"
    }
   ],
   "source": [
    "sns.countplot(x=\"lebel\",data=df)"
   ]
  },
  {
   "cell_type": "code",
   "execution_count": 8,
   "id": "af7e2691-9f04-448d-999f-2cc40de9ae12",
   "metadata": {},
   "outputs": [],
   "source": [
    "import re\n",
    "import nltk\n",
    "from nltk.corpus import stopwords\n",
    "from nltk.tokenize import sent_tokenize\n",
    "from nltk.tokenize import word_tokenize\n",
    "from nltk.stem import PorterStemmer\n",
    "from nltk.stem import WordNetLemmatizer"
   ]
  },
  {
   "cell_type": "code",
   "execution_count": 9,
   "id": "fabcff27-0837-448f-be55-7f6c29bc8d27",
   "metadata": {},
   "outputs": [
    {
     "data": {
      "text/plain": [
       "<PorterStemmer>"
      ]
     },
     "execution_count": 9,
     "metadata": {},
     "output_type": "execute_result"
    }
   ],
   "source": [
    "ps=PorterStemmer()\n",
    "ps"
   ]
  },
  {
   "cell_type": "code",
   "execution_count": null,
   "id": "4c026b0a-f2c4-4709-944a-fe21f128d1b1",
   "metadata": {},
   "outputs": [],
   "source": []
  },
  {
   "cell_type": "code",
   "execution_count": 10,
   "id": "bf58cff0-b625-47d9-9d7f-269db711c81c",
   "metadata": {
    "scrolled": true
   },
   "outputs": [],
   "source": [
    "corpus=[]\n",
    "for i in range(0,len(df)):\n",
    "    new=re.sub(\"[^a-zAZ]\",\" \",df[\"messege\"][i])\n",
    "    new=new.lower()\n",
    "    new=new.split()\n",
    "    new=[ps.stem(clean) for clean in new if clean not in stopwords.words(\"english\")]\n",
    "    new=\" \".join(new)\n",
    "    corpus.append(new)"
   ]
  },
  {
   "cell_type": "code",
   "execution_count": 11,
   "id": "05b8c141-1440-459f-936b-5c75da11c752",
   "metadata": {},
   "outputs": [
    {
     "data": {
      "text/plain": [
       "['jurong point crazi avail bugi n great world la e buffet ine got amor wat',\n",
       " 'k lar oke wif u oni',\n",
       " 'ree entri wkli comp win final tkt st ay ext receiv entri question std txt rate appli',\n",
       " 'dun say earli hor c alreadi say',\n",
       " 'ah think goe usf live around though',\n",
       " 'ree sg ey darl week word back like fun still b ok x std chg send rcv',\n",
       " 'ven brother like speak hey treat like aid patent',\n",
       " 'per request ell ell ru innaminungint urungu ettam set callertun aller ress copi friend allertun',\n",
       " 'valu network custom select receivea prize reward claim call laim code alid hour',\n",
       " 'ad mobil month entitl pdate latest colour mobil camera ree obil pdate',\n",
       " 'gonna home soon want talk stuff anymor tonight k cri enough today',\n",
       " 'chanc win rom pound txt send ost p day day sand appli epli info',\n",
       " 'ou week membership rize ackpot xt word www dbuk net',\n",
       " 'search right word thank breather promis wont take help grant fulfil promis ou wonder bless time',\n",
       " '',\n",
       " 'obil ovi lub use credit click link next txt messag click http wap xxxmobilemovieclub com n',\n",
       " 'h k watch',\n",
       " 'h u rememb spell name es e v naughti make v wet',\n",
       " 'ine way u feel hat way gota b',\n",
       " 'ngland v acedonia dont miss goal team news xt ur nation team eg ry txt ox',\n",
       " 'serious spell name',\n",
       " 'go tri month ha ha joke',\n",
       " 'pay first lar hen da stock comin',\n",
       " 'aft finish lunch go str lor ard smth lor finish ur lunch alreadi',\n",
       " 'fffffffff alright way meet sooner',\n",
       " 'ust forc eat slice realli hungri tho suck ark get worri e know sick turn pizza ol',\n",
       " 'ol alway convinc',\n",
       " 'id catch bu fri egg id make tea eat mom left dinner feel ove',\n",
       " 'back amp pack car let know room',\n",
       " 'ahhh ork vagu rememb hat feel like ol',\n",
       " 'ait still clear sure sarcast x want live us',\n",
       " 'eah got v apologet n fallen actin like spoilt child got caught ill ut go ot badli cheer ou',\n",
       " 'tell anyth',\n",
       " 'fear faint housework uick cuppa',\n",
       " 'hank subscript ington mobil charg month leas confirm repli f repli charg',\n",
       " 'k go home look time msg uhui go learn nd may lesson',\n",
       " 'op let know roommat done',\n",
       " 'see letter car',\n",
       " 'anyth lor decid',\n",
       " 'ello ow saturday go text see decid anyth tomo ot tri invit anyth',\n",
       " 'ls go ahead watt want sure great weekend abiola',\n",
       " 'id forget tell want need crave ut love sweet arabian steed mmmmm ummi',\n",
       " 'odger urn e tri call repli sm free nokia mobil free camcord leas call deliveri tomorrow',\n",
       " '',\n",
       " 'reat hope like man well endow lt gt inch',\n",
       " 'call messag miss call',\n",
       " 'idn get hep b immunis nigeria',\n",
       " 'air enough anyth go',\n",
       " 'eah hope tyler could mayb ask around bit',\n",
       " 'know stubborn even want go hospit kept tell ark weak sucker ospit weak sucker',\n",
       " 'hat think irst time saw class',\n",
       " 'gram usual run like lt gt half eighth smarter though get almost whole second gram lt gt',\n",
       " 'fyi x ride earli tomorrow morn crash place tonight',\n",
       " 'ow never realiz embarass accomod thought like sinc best could alway seem happi cave sorri give sorri offer sorri room embarass',\n",
       " 'ac ptv ew ersey evil etroit ed ing play ce ockey orrect ncorrect nd epli',\n",
       " 'know allika herawat yesterday ind lt gt',\n",
       " 'ongrat year special cinema pass call uprman atrix tar ar etc bx ip pm ont miss',\n",
       " 'orri call later meet',\n",
       " 'ell reach',\n",
       " 'es gauti sehwag odi seri',\n",
       " 'gonna pick burger way home even move kill',\n",
       " 'ha ha good joke irl situat seeker',\n",
       " 'ts part check',\n",
       " 'orri roommat took forev ok come',\n",
       " 'k lar doubl check wif da hair dresser alreadi said wun cut v short e said cut look nice',\n",
       " 'valu custom pleas advis follow recent review ob award onu rize call',\n",
       " 'oday song dedic day hich song u dedic end ur valuabl frnd first rpli',\n",
       " 'rgent award complimentari trip uro isinc rav aco ntri r claim txt rm ob hracom r gl uplt',\n",
       " 'id hear new ivorc arbi come en stuff',\n",
       " 'plane give month end',\n",
       " 'ah lucki man hen save money ee',\n",
       " 'inish class',\n",
       " '',\n",
       " 'k perform',\n",
       " 'call',\n",
       " 'wait machan free',\n",
       " 'hat cool gentleman treat digniti respect',\n",
       " 'like peopl much shi pa',\n",
       " 'oe oper lt gt',\n",
       " 'ts till look job ow much earn',\n",
       " 'orri call later',\n",
       " 'id call ah',\n",
       " 'k way home hi hi',\n",
       " 'ou place man',\n",
       " 'next stop',\n",
       " 'call later network f urgnt sm',\n",
       " 'real u get yo need ticket one jacket done alreadi use multi',\n",
       " 'es start send request make pain came back back bed oubl coin factori gotta cash nitro',\n",
       " 'realli still tonight babe',\n",
       " 'la kano il download come wen ur free',\n",
       " 'eah stand close tho catch someth',\n",
       " 'orri pain ok meet anoth night spent late afternoon casualti mean done stuff moro includ time sheet orri',\n",
       " 'mile leasur mile mile troubl pour like mile sum urt mile becoz still ove see u mile',\n",
       " 'leas call custom servic repres pm guarante cash prize',\n",
       " 'avent plan buy later check alreadi lido got show e afternoon finish work alreadi',\n",
       " 'free rington wait collect impli text password verifi et sher ritney ox pw',\n",
       " 'atch telugu movi wat abt u',\n",
       " 'see hen finish load loan pay',\n",
       " 'k ok hol es bit run orgot hairdress appoint four need get home n shower beforehand oe caus prob u',\n",
       " 'see cup coffe anim',\n",
       " 'leas text anymor noth els say',\n",
       " 'kay name ur price long legal en pick u ave x am xx',\n",
       " 'still look car buy gone drive test yet',\n",
       " 'per request ell ell ru innaminungint urungu ettam set callertun aller ress copi friend allertun',\n",
       " 'wow ou right mean guess gave boston men chang search locat nyc someth chang uz signin page still say boston',\n",
       " 'mma life vava umma love lot dear',\n",
       " 'hank lot wish birthday hank make birthday truli memor',\n",
       " 'aight hit get cash',\n",
       " 'ow would ip address test consid comput minecraft server',\n",
       " 'know rumpi old peopl mom like better lie hen alway one play joke',\n",
       " 'ont worri guess busi',\n",
       " 'hat plural noun research',\n",
       " 'o dinner msg',\n",
       " 'ok wif co like tri new thing ut scare u dun like mah os u said loud',\n",
       " 'e tri contact ast weekend draw show prize laim ode alid hr ppm',\n",
       " 'ur openin sentenc formal anyway fine juz tt eatin much n puttin weight aha anythin special happen',\n",
       " 'enter cabin said appi day oss felt special askd lunch lunch invit apart e went',\n",
       " 'ou winner special select receiv holiday flight inc speak live oper claim p min',\n",
       " 'oodo es must speak friday egg potato ratio tortilla need',\n",
       " 'mm uncl inform pay school directli pl buy food',\n",
       " 'account tatement show unredeem onu oint claim call dentifi ode xpire',\n",
       " 'obil award onu aller rize final tri contact andlin',\n",
       " 'new address appl pair malarki',\n",
       " 'oday oda number end select receiv award f match pleas call quot claim code standard rate app',\n",
       " 'go sao mu today ill done',\n",
       " 'predict wat time finish buy',\n",
       " 'ood stuff',\n",
       " 'ust know yetund sent money yet sent text bother send dont involv anyth impos anyth first place apologis',\n",
       " 'room',\n",
       " 'xx',\n",
       " 'k much cost',\n",
       " 'home',\n",
       " 'ear call morrow pl accomod',\n",
       " 'irst answer question',\n",
       " 'unshin uiz kli top oni player u know countri algarv xt ansr yrone',\n",
       " 'ant get laid tonight ant real og locat sent direct ur mob oin largest og etwork bt xting ec p msg p',\n",
       " 'haf msn yiju hotmail com',\n",
       " 'e ou call meet',\n",
       " 'check room befor activ',\n",
       " 'ou rcv msg chat svc ardcor servic text f u get noth u must age erifi yr network tri',\n",
       " 'ot c lazi type forgot lect saw pouch like v nice',\n",
       " 'text way',\n",
       " 'ir ait mail',\n",
       " 'swt thought ver get tire littl thing lovabl person oz somtim littl thing occupi biggest part eart ud ni',\n",
       " 'know pl open back',\n",
       " 'es see ya dot',\n",
       " 'hat staff name take class us',\n",
       " 'ree sg hy repli text andi sexi femal live local uv hear u etcollex td p per msg repli top end',\n",
       " 'mmma call check life begin qatar pl pray hard',\n",
       " 'delet contact',\n",
       " 'indu got job birla soft',\n",
       " 'wine flow never',\n",
       " 'thk cine better co need go plaza mah',\n",
       " 'k r typic repli',\n",
       " 'per request ell ell ru innaminungint urungu ettam set callertun aller ress copi friend allertun',\n",
       " 'ou everywher dirt floor window even shirt sometim open mouth come flow dream world without half chore time joy lot tv show see ut guess like thing must exist like rain hail mist time done becom one',\n",
       " 'aaooooright work',\n",
       " 'leav hous',\n",
       " 'ello love hat id get interview today happi good boy think miss',\n",
       " 'ustom servic annonc ou ew ear deliveri wait leas call arrang deliveri',\n",
       " 'ou winner special select receiv cash holiday flight inc speak live oper claim',\n",
       " 'eep safe need miss alreadi envi everyon see real life',\n",
       " 'ew car hous parent new job hand',\n",
       " 'love excit day spend ou make happi',\n",
       " 'bootydeli invit friend epli ee www ac u bootydeli end',\n",
       " 'ang abe r order way receiv ervic sg download content f wap bangb tv mobil internet servic menu',\n",
       " 'place ur point e cultur modul alreadi',\n",
       " 'e tri contact ast weekend draw show prize laim code alid hr',\n",
       " 'frnd best way avoid missunderstd wit belov one',\n",
       " 'reat escap fanci bridg need lager ee tomo',\n",
       " 'es complet form clark also utter wast',\n",
       " 'ir need account bank address',\n",
       " 'mmm hk sure got time hop ard go free abt uz call u discuss liao',\n",
       " 'hat time come later',\n",
       " 'loodi hell cant believ forgot surnam r give u clue spanish begin',\n",
       " 'ell gonna finish bath ave good fine night',\n",
       " 'et know got money carlo make call',\n",
       " 'still go mall',\n",
       " 'urn friend stay whole show back til lt gt feel free go ahead smoke lt gt worth',\n",
       " 'ext f doesnt repli let know log',\n",
       " 'ou spoke e like know satisfi experi epli oll ree es',\n",
       " 'ou lift hope offer money need special end month approach hurt studi anyway gr weekend',\n",
       " 'ol trust',\n",
       " 'ok gentleman treat digniti respect',\n",
       " 'e guy close',\n",
       " 'o noth great bye',\n",
       " 'ello handsom find job ot lazi ork toward get back net mummi boytoy oe miss',\n",
       " 'aha awesom minut',\n",
       " 'leas call custom servic repres pm guarante cash prize',\n",
       " 'ave got ma radio time f get',\n",
       " 'ju reach home go bath first ut si use net tell u finish k',\n",
       " 'uniqu enough ind th august www areyouuniqu co uk',\n",
       " 'sorri join leagu peopl dont keep touch ou mean great deal ou friend time even great person cost great week',\n",
       " 'final complet cours',\n",
       " 'stop howev suggest stay someon abl give or everi stool',\n",
       " 'ow ope settl new school year ust wishin gr day',\n",
       " 'ud mrng dear hav nice day',\n",
       " 'id u got person stori',\n",
       " 'hamster dead ey tmr meet pm orchard mrt',\n",
       " 'ate even hope see tomorrow bit bloodi babyjontet xt back u xxx',\n",
       " 'ound lt gt',\n",
       " 'sent lt gt buck',\n",
       " 'ello darlin ive finish colleg txt u finish u love ate xxx',\n",
       " 'account refil success lt gt erala ircl prepaid account balanc lt gt ransact lt gt',\n",
       " 'oodmorn sleep ga',\n",
       " 'call alter ok',\n",
       " 'say like dat dun buy ericsson oso cannot oredi lar',\n",
       " 'enter cabin said appi day oss felt special askd lunch lunch invit apart e went',\n",
       " 'aight yo dat straight dogg',\n",
       " 'ou pleas give us connect today lt gt refund bill',\n",
       " 'oth shoot big load get readi',\n",
       " 'hat bruv hope great break reward semest',\n",
       " 'ome alway chat',\n",
       " 'k good studi well',\n",
       " 'ow noe leh',\n",
       " 'ound great home',\n",
       " 'inal match head toward draw predict',\n",
       " 'ire slept well past night',\n",
       " 'asi ah sen got select mean good',\n",
       " 'take exam march',\n",
       " 'eah think use gt atm regist ot sure anyway help let know ut sure readi',\n",
       " 'k prob ake ur time',\n",
       " 'os call ubandu run without instal hard disk use os copi import file system give repair shop',\n",
       " 'orri call later',\n",
       " 'say leh f cours noth happen lar ot say v romant ju bit lor thk e nite sceneri nice leh',\n",
       " 'ew obil xt collect today rom www tc biz optout gbp mtmsg',\n",
       " 'ould realli appreci call ust need someon talk',\n",
       " 'ill u meet ur dream partner soon ur career flyng start find free txt follow ur star sign e g',\n",
       " 'ey compani elama po mudyadhu',\n",
       " 'ife strict teacher coz eacher teach lesson amp conduct exam ut ife first conduct xam amp teach esson appi morn',\n",
       " 'ear good morn',\n",
       " 'et gandhipuram walk cross cut road ight side lt gt street road turn first right',\n",
       " 'ear go rubber place',\n",
       " 'orri batteri die yeah',\n",
       " 'es tv alway avail work place',\n",
       " 'ext meet someon sexi today find date even flirt oin p eg msg recd thirtyeight penc',\n",
       " 'print oh lt gt come upstair',\n",
       " 'r ill littl closer like bu stop street',\n",
       " 'wil reach',\n",
       " 'ew heori argument win lose dont argu ur friend kick amp say alway correct',\n",
       " 'secret admir look make contact find reveal think special call',\n",
       " 'omarrow final hear laptop case cant',\n",
       " 'x',\n",
       " 'kay shine hat meant sign sound better',\n",
       " 'although told u dat baig face watch realli like e watch u gave co fr u hanx everyth dat u done today touch',\n",
       " 'rememb old commerci',\n",
       " 'oo late said websit dont slipper',\n",
       " 'ask call ok',\n",
       " 'alli wont bat nd inning',\n",
       " 'didnt work oh k goodnight fix readi time wake ou dearli miss good night sleep',\n",
       " 'ongratul ur award voucher gift guarante ree entri wkli draw txt n www dew com win ppmx age',\n",
       " 'anjith cal drpd eeraj deepak min hold',\n",
       " 'en ur lovabl bcum angri wid u dnt take serious oz angri childish n true way show deep affect care n luv kettoda manda ave nice day da',\n",
       " 'hat',\n",
       " 'ps day also ship compani take wk way usp take week get lag may bribe nipost get stuff',\n",
       " 'back lemm know readi',\n",
       " 'necessarili expect done get back though headin',\n",
       " 'mm yummi babe ice jolt suzi',\n",
       " 'lover need',\n",
       " 'e tri contact repli offer ideo andset anytim network min amcord epli call',\n",
       " 'park next hen come today think',\n",
       " '',\n",
       " 'anyway go shop os si done yet un disturb u liao',\n",
       " '',\n",
       " 'ey realli horni want chat see nake text hot text charg pm unsubscrib text stop',\n",
       " 'hy int come us',\n",
       " 'ame ana plan trip sometm',\n",
       " 'ot sure yet still tri get hold',\n",
       " 'r rington servic chang ree credit club mobil com choos content top txt p wk lub ox',\n",
       " 'evo download flash ealou',\n",
       " 'ington lub et singl chart mobil week choos top qualiti rington messag free charg',\n",
       " 'ome mu sort narcot situat',\n",
       " 'ight end anoth day morn come special way ay smile like sunni ray leav worri blue blue bay',\n",
       " 'pound genuin voucher ust answer easi question lay ow end ore info www percent real com',\n",
       " 'sf guess might well take car',\n",
       " 'object bf come',\n",
       " 'hanx',\n",
       " 'ell rob mack gf theater',\n",
       " 'awesom see bit',\n",
       " 'ust sent type food like',\n",
       " 'done hand elebr full swing yet',\n",
       " 'ou got call tool',\n",
       " 'en u miss someon person definit special u ut person special miss eep touch gdeve',\n",
       " 'k ask money far',\n",
       " 'kie',\n",
       " 'eah think usual guy still pass last night get ahold anybodi let know throw',\n",
       " 'might come tonight class let earli',\n",
       " 'k',\n",
       " 'hi babi im cruisin girl friend r u give call hour home that alright fone fone love jenni xxx',\n",
       " 'life ean lot ot love life ut love peopl life world call friend call orld e',\n",
       " 'ear shall mail tonit busi street shall updat tonit thing look ok varunnathu edukkukaye raksha ollu good one real sens',\n",
       " 'ey told name gautham ah',\n",
       " 'af u found feel stupid da v cam work',\n",
       " 'op got bit',\n",
       " 'much buzi',\n",
       " 'accident delet messag esend pleas',\n",
       " 'obil custom may claim upgrad pay go sim card loyalti ffer end th eb appli',\n",
       " 'nless situat would appropri',\n",
       " 'urt eas ake cri ut end life die plz keep one rose grave say',\n",
       " 'cant pick phone right ls send messag',\n",
       " 'eed coffe run tomo believ time week alreadi',\n",
       " 'awesom rememb last time got somebodi high first time diesel',\n",
       " 'hit realli shock scari cant imagin second ef night u think somewher could crash night save taxi',\n",
       " 'h way food fridg ant go meal tonight',\n",
       " 'e womdarful actor',\n",
       " 'ac lind ate odd aberdeen nite ingdom heck im http img sm ac icmb cktz r lind ate send',\n",
       " 'rom remb think book',\n",
       " 'os ask u wana meet',\n",
       " 'ol ye ur friendship hang thread caus u buy stuff',\n",
       " 'ob heck newest select content ame one ossip babe sport eep mobil fit funki text',\n",
       " 'garag key hey bookshelf',\n",
       " 'oday accept rother ister ear est lo vblefrnd stfrnd utefrnd ifpartnr elovd wtheart stfrnd rpli mean enemi',\n",
       " 'hink ur smart week weekli quiz text inner lub z week',\n",
       " 'e say give call friend got money definit buy end week',\n",
       " 'way u day normal way real uniqu hope know u rest mylif ope u find wot lost',\n",
       " 'ou made day great day',\n",
       " 'k advanc happi pongal',\n",
       " 'mmm uess go kb n power yoga aha dunno tahan power yoga anot hk got lo oso forgot liao',\n",
       " 'ot realli dude friend afraid',\n",
       " 'ecemb ad mobil mth ou entitl updat latest colour camera mobil ree obil pdate',\n",
       " 'offe cake guess',\n",
       " 'erri hristma babe love ya kiss',\n",
       " 'ey hy dont go watch x men lunch aha',\n",
       " 'cud u tell ppl im gona b bit l co buse hav gon past co full im still waitin ete x',\n",
       " 'hat would great e uild ould meet ristol road somewher get touch weekend ur plan take flight ave good week',\n",
       " 'problem ow',\n",
       " 'call messag miss call',\n",
       " 'da today class',\n",
       " 'say good sign well know track record read women',\n",
       " 'ool text park',\n",
       " 'read text sent ts meant joke read light',\n",
       " 'k apo k good movi',\n",
       " 'ayb could get book tomo return immedi r someth',\n",
       " 'ermani penc per minut fix line via access number prepay irect access',\n",
       " 'chanc might evapor soon violat privaci steal phone number employ paperwork ot cool leas contact report supervisor',\n",
       " 'alentin ay pecial quiz take partner trip lifetim end p msg rcvd ust',\n",
       " 'aaaaa home babe still',\n",
       " 'ool come havent wine dine',\n",
       " 'ust sleep surf',\n",
       " 'orri call later',\n",
       " 'call right hand phone',\n",
       " 'k great thanx lot',\n",
       " 'take post come ou must text appi read one wiv hello carolin end favourit less',\n",
       " 'u hide stranger',\n",
       " 'interest like',\n",
       " 'sister clear two round birla soft yesterday',\n",
       " 'udnit tc practic go',\n",
       " 'yiju ju saw ur mail n case huim havent sent u num num',\n",
       " 'ne small prestig problem',\n",
       " 'anci shag nterest sextextuk com txt z xt cost per msg n websit',\n",
       " 'ust check ealli miss see eremiah great month',\n",
       " 'ah help never iphon',\n",
       " 'f car hour half go apeshit',\n",
       " 'orri day f ever angri ever misbehav hurt plz plz coz ts ur fault basic',\n",
       " 'guy ever figur much need alcohol ay tri figur much safe spend weed',\n",
       " 'lt gt',\n",
       " 'hank ou call orgot say appi nam irji fine rememb met insur person eet ou atar nsha allah akhesh ex ata join ayseer',\n",
       " 'ongratul ur award voucher gift guarante ree entri wkli draw txt n www dew com win ppmx age',\n",
       " 'r cash balanc current pound maxim ur cash send p msg uit and ow',\n",
       " 'actor hen work work even sleep late inc unemploy moment sleep late hen unemploy everi day saturday',\n",
       " 'ello ust got st andrew boy long way ts cold keep post',\n",
       " 'ha cool cool chikku chikku',\n",
       " 'h ok prob',\n",
       " 'heck audrey statu right',\n",
       " 'usi ry finish new year look forward final meet',\n",
       " 'ood afternoon sunshin ow dawn day refresh happi aliv breath air smile think love alway',\n",
       " 'ell know z take care worri',\n",
       " 'pdate ow ma ffer atest otorola oni ricsson okia luetooth oubl in xt rang obil pd call optout',\n",
       " 'ere discount code stop messag repli stop www regalportfolio co uk ustom ervic',\n",
       " 'uniform n get',\n",
       " 'ool text readi',\n",
       " 'ello boytoy eeee miss alreadi woke wish bed cuddl love',\n",
       " 'spoil bed well',\n",
       " 'go bath msg next lt gt min',\n",
       " 'cant keep talk peopl sure pay agre price pl tell want realli buy much will pay',\n",
       " 'hank ington rder efer ou charg per week ou unsubscrib anytim call custom servic',\n",
       " 'say happen',\n",
       " 'ou could seen recognis ace',\n",
       " 'ell lot thing happen indsay ew year sigh ome bar tbo blue heron someth go',\n",
       " 'eep payasam rinu bring',\n",
       " 'taught anjith sir call sm like ecau he verifi project rabu told today pa dont mistak',\n",
       " 'guess worri ou must know way bodi repair quit sure worri e take slow irst test guid ovul relax oth said reason worri keep followin',\n",
       " 'eah sure give coupl minut track wallet',\n",
       " 'ey leav big deal take care',\n",
       " 'ey late ah eet',\n",
       " 'oubl min txt month luetooth rang avail oni okia otorola phone obil pd call optout',\n",
       " 'took r owl lick',\n",
       " 'ustom place call',\n",
       " 'time dont like fun',\n",
       " 'mth half price rang line rental latest camera phone ad phone mth obil irect free updat stoptxt',\n",
       " 'lunch buffet eat alreadi',\n",
       " 'uh late r dinner',\n",
       " 'ey sat go intro pilat r kickbox',\n",
       " 'orn ok',\n",
       " 'es think offic lap room think that last day didnt shut',\n",
       " 'ick bout ish hat time go',\n",
       " 'rom perform award calcul everi two month current one month period',\n",
       " 'actual sleep still might u call back text gr ou rock si ill send u text wen wake',\n",
       " 'ou alway put busi ou put pictur ass facebook ou one open peopl ever met hy would think pictur room would hurt make feel violat',\n",
       " 'ood even ir al alam ahleykkum share happi news grace od got offer ayseer join ope fine nshah allah meet sometim akhesh visitor ndia',\n",
       " 'mmm k want chang field quickli da wanna get system administr network administr',\n",
       " 'text poli text true tone elp st free tone x pw e nd txt stop',\n",
       " 'ear chechi id talk',\n",
       " 'hair cream ship',\n",
       " 'one happen til get though',\n",
       " 'ep great loxahatche xma tree burn lt gt start hour',\n",
       " 'aha get use drive usf man know lot stoner',\n",
       " 'well slightli disastr class pm fav darl ope day ok offe wld good stay late tomorrow ame time place alway',\n",
       " 'ello ood week anci drink someth later',\n",
       " 'eadin toward busetop',\n",
       " 'essag text miss ender ame iss umber iss ent ate miss iss lot that everyth miss sent via fullonsm com',\n",
       " 'ome room point iron plan weekend',\n",
       " 'os want thing',\n",
       " 'kie go yan jiu e skip ard oso go cine den go mrt one blah blah blah',\n",
       " 'ring home endi',\n",
       " 'date servic cal l box sk ch',\n",
       " 'hatsup ont u want sleep',\n",
       " 'alright new goal',\n",
       " 'entri weekli competit text word www txttowin co uk',\n",
       " 'alright head minut text meet',\n",
       " 'end logo ur lover name join heart xt eg ahoo ox xt ad p',\n",
       " 'es last week take live call',\n",
       " 'omeon contact date servic enter phone fanci find call landlin ox n tf p',\n",
       " 'iva hostel aha',\n",
       " 'obil number award prize land line laim alid hr',\n",
       " 'end ur friend receiv someth ur voic ow speak express childish naughti entiment rowdi ful attitud romant shi attract funni lt gt irrit lt gt lovabl repli',\n",
       " 'k ok guess',\n",
       " 'aathi dear',\n",
       " 'pain urin thing els',\n",
       " 'esplanad mind give lift co got car today',\n",
       " 'wnt buy car urgent vri urgent hv shortag lt gt ac sourc arng di amt lt gt lac that prob',\n",
       " 'home watch tv lor',\n",
       " 'oe usual take fifteen fuck minut respond ye question',\n",
       " 'ongrat okia video camera phone all cost ppm ave call min vari mobil lose post dn',\n",
       " 'ook ticket pongal',\n",
       " 'ou avail like right around hillsborough amp lt gt th',\n",
       " 'messag sent askin lt gt dollar houl pay lt gt lt gt',\n",
       " 'ask g iouri told stori like ten time alreadi',\n",
       " 'ow long applebe fuck take',\n",
       " 'hope u get txt journey hasnt gd min late think',\n",
       " 'ut like love arrang',\n",
       " 'es realli great bhaji told kalli best cricket sachin world tough get',\n",
       " 'ou suppos wake gt',\n",
       " 'ic saw tot din c found group liao',\n",
       " 'orri call later',\n",
       " '',\n",
       " 'orri batteri die come get gram place',\n",
       " 'ell done blimey exercis yeah kinda rememb wot hmm',\n",
       " 'wont get concentr dear know mind everyth',\n",
       " 'ave made plan new year',\n",
       " 'min later k',\n",
       " 'hank lotsli',\n",
       " 'hank hope good day today',\n",
       " 'k detail want transfer acc enough',\n",
       " 'k tell stay eah tough optimist thing improv month',\n",
       " 'oan purpos omeown enant welcom ave previous refus e still help ree text back help',\n",
       " 'si think ill go make oreo truffl',\n",
       " '',\n",
       " 'hope result consist intellig kind tart ask practicum link keep ear open best ttyl',\n",
       " 'call cost hich guess isnt bad iss ya need ya want ya love ya',\n",
       " 'o thru differ feel waver decis cope individu time heal everyth believ',\n",
       " 'u go phone gonna die stay',\n",
       " 'reat ever better ach day give even reason thank od',\n",
       " 'pgrd entr rang custom may claim upgrad loyalti ffer end th uli appli pt avail',\n",
       " 'orri call later ok bye',\n",
       " 'k way railway',\n",
       " 'great princess love give receiv oral oggi style fave posit ow enjoy make love lt gt time per night',\n",
       " 'hey put stuff road keep get slipperi',\n",
       " 'hen go ride bike',\n",
       " 'need ju wait e rain stop',\n",
       " 'mani compani ell languag',\n",
       " 'okmail ear ave final notic collect enerif oliday award landlin ox ppm',\n",
       " 'ow long sinc scream princess',\n",
       " 'oth meant money enter account bank remov flat rate omeon transfer lt gt account lt gt dollar got remov bank differ charg also differ sure trust ja person send account detail co',\n",
       " 'ant get laid tonight ant real og locat sent direct ur ob oin largest og etwork txting yt ec p msg p',\n",
       " 'ice line said broken heart lz cum time infront ther wise trust ood',\n",
       " 'k gonna head usf like fifteen minut',\n",
       " 'ove aathi love u lot',\n",
       " 'ension ah machi problem',\n",
       " 'pick anoth th done',\n",
       " 'hen guy get back said think stay mcr',\n",
       " 'almost see u sec',\n",
       " 'carlo friend alreadi ask work weekend',\n",
       " 'atch tv lor',\n",
       " 'hank babi cant wait tast real thing',\n",
       " 'ou chang fb jaykwon thuglyf falconerf',\n",
       " 'f win realli side long time',\n",
       " 'activ ext essag repli messag word term condit visit www com',\n",
       " 'ear reach railway hat happen',\n",
       " 'epend qualiti f want type sent boy fade glori f want ralph mayb',\n",
       " 'think fix send test messag',\n",
       " 'orri man account dri would want could trade back half could buy shit credit card',\n",
       " 'ongrat year special cinema pass call uprman atrix tar ar etc bx ip pm ont miss',\n",
       " 'orri meet call later',\n",
       " 'hat class lt gt reunion',\n",
       " 'free call',\n",
       " 'ot meh hen',\n",
       " 'ope hink go monday orri repli late',\n",
       " 'ome told accentur confirm true',\n",
       " 'ate jackson rec center ish right',\n",
       " 'ear reach room',\n",
       " 'ight world easi u either win lose bt fightng close u dificult u lose u lose u win u still lose',\n",
       " 'hen come',\n",
       " 'heck nuerologist',\n",
       " 'olnic went fish water',\n",
       " 'ongratul week competit draw u prize claim call b stop ver ppm',\n",
       " 'wait e car dat bore wat os wait outsid got noth home stuff watch tv wat',\n",
       " 'ayb westshor hyde park villag place near hous',\n",
       " 'ou know anthoni bring money school fee pay rent stuff like hat need help friend need',\n",
       " 'hat signific',\n",
       " 'opinion ver ada usruthi ovabl ilent pl charact ot matur tylish impl ls repli',\n",
       " 'latest g still scroung ammo want give new ak tri',\n",
       " 'rabha soryda reali frm heart sori',\n",
       " 'ol ok forgiven',\n",
       " 'jst chang tat',\n",
       " 'ou guarante latest okia hone od player prize xt word ltd dn p tmsgrcvd',\n",
       " 'competit',\n",
       " 'oltblu tone p epli eg ha ha lide eah low amz oxic ome ith e tone txt',\n",
       " 'credit top http www bubbletext com renew tgxxrz',\n",
       " 'hat way transport less problemat sat night way u want ask n join bday feel free ut need know definit no book fri',\n",
       " 'sualli person unconsci children adult may behav abnorm call',\n",
       " 'ut ebay might less elsewher',\n",
       " 'hall come get pickl',\n",
       " 'ere gonna go get taco',\n",
       " 'hat rude campu',\n",
       " 'obil award onu aller rize nd attempt contact',\n",
       " 'b ard christma ut enjoy n merri x ma',\n",
       " 'oday ffer laim ur worth discount voucher ext ava ob member offer mobil ub nsub repli',\n",
       " 'es ow pretti ladi like singl',\n",
       " 'ou reciev tone within next hr erm condit pleas see hannel eletext g',\n",
       " 'ay say doubl faggot',\n",
       " 'account tatement show un redeem point dentifi ode xpire',\n",
       " 'hat oday sunday sunday holiday work',\n",
       " 'udnit tc practic go',\n",
       " 'late',\n",
       " 'call hope l r malaria know miss guy miss ani big pl give love especi ave great day',\n",
       " 'ood afternoon love ow goe day hope mayb got lead job think boytoy send passion kiss across sea',\n",
       " 'robabl gonna see later tonight lt',\n",
       " 'r mayb fat finger press button know',\n",
       " 'mmmmmaah mani happi return day dear sweet heart dear',\n",
       " 'tirupur da start offic call',\n",
       " 'www applausestor com onthli ubscript p msg max month web age stop txt stop',\n",
       " 'famou quot develop abil listen anyth uncondit without lose temper self confid mean',\n",
       " 'ut go colleg pa hat els ill come self',\n",
       " 'oclock mine ust bash flat plan',\n",
       " 'girl stay bed girl need recoveri time rather pass fun coop bed',\n",
       " 'hen special',\n",
       " 'know need get hotel got invit apologis ali sweet come english bloke weddin',\n",
       " 'orri took long omw',\n",
       " 'ait lt gt min',\n",
       " 'k give minut think see alibi ou cut hair whole time',\n",
       " 'magin final get sink bath put pace mayb even eat left ut also imagin feel cage cock surround bath water remind alway own njoy cuck',\n",
       " 'urri weed defici like three day',\n",
       " 'ure get acknowledg astoundingli tactless gener faggi demand blood oath fo',\n",
       " 'k night take warm bath drink cup milk see work magic ou still need loos weight ust know',\n",
       " 'look fri pan case cheap book perhap silli fri pan like book',\n",
       " 'ell uv caus mutat unscreen like essenti theseday',\n",
       " 'ave lunch onlin',\n",
       " 'know friend alreadi told',\n",
       " 'rincess hank pic ou pretti ow',\n",
       " 'aiyo alway c ex one dunno abt mei repli irst time u repli fast lucki workin huh got bao ur sugardad ah gee',\n",
       " 'msg offic',\n",
       " 'hanx e browni v nice',\n",
       " 'eeeee love much bare stand',\n",
       " 'e tri contact ast weekend draw show prize laim ode alid hr ppm',\n",
       " 'uck babe miss alreadi know let send money toward net need want crave',\n",
       " 'call u mrw ninish address icki american freek wont stop callin bad en k eh',\n",
       " 'ooh bed ridden ey hat think',\n",
       " 'anyway go gym whatev love smile hope ok good day babe miss much alreadi',\n",
       " 'ove addi make scream pleasur go slap ass dick',\n",
       " '',\n",
       " 'ar lor wait mum finish sch lunch lor whole morn stay home clean room room quit clean ee',\n",
       " 'know lab goggl went',\n",
       " 'open door',\n",
       " 'ait call',\n",
       " 'ope wait sch daddi',\n",
       " 'ou cash prize claim call',\n",
       " 'tire argu week week want',\n",
       " 'wait sch finish ard',\n",
       " 'mobil number claim call us back ring claim hot line',\n",
       " 'arngd marriag u r walkin unfortuntli snake bite u bt love marriag danc frnt snake amp sayin ite bite',\n",
       " 'uh earli hen dinner outsid izzit',\n",
       " 'k anyway need chang said',\n",
       " 'e tri contact repli offer min textand new video phone call repli free deliveri tomorrow',\n",
       " 'ex wife abl kid want kid one day',\n",
       " 'scotland ope show tendenc ake care ive dream',\n",
       " 'ell u headach want use hour sick time',\n",
       " 'dun thk quit yet mmm go jazz ogasana oso e go meet em lesson den',\n",
       " 'ete pleas ring meiv hardli gotani credit',\n",
       " 'srsli better yi tho',\n",
       " 'meet call later',\n",
       " 'ur chanc win wkli shop spree www txt shop com custcar x p wk',\n",
       " 'ou special select receiv pound award line close ost ppm appli romo',\n",
       " 'account tatement show un redeem point dentifi ode xpire',\n",
       " 'ou still grand prix',\n",
       " 'met stranger choos friend long world stand friendship never end et riend forev ud nitz',\n",
       " 'great ow',\n",
       " 'ud mrng dear nice day',\n",
       " 'ou import custom servic announc',\n",
       " 'ill exhaust train morn oo much wine pie ou sleep well',\n",
       " 'go buy mum present ar',\n",
       " 'ind blastin sunami occur ajnik stop swim ndian cean',\n",
       " 'f u send home first ok lor readi yet',\n",
       " 'peak cash yet',\n",
       " 'e happi come noon',\n",
       " 'eet lunch la',\n",
       " 'e n g e n',\n",
       " 'z info',\n",
       " 'meant say cant wait see u get bore bridgwat banter',\n",
       " 'eva mind ok',\n",
       " 'fine imma get drink somethin ant come find',\n",
       " 'day kick uro kept date latest news result daili remov send',\n",
       " 'ts valentin game end di msg ur friend f answer r someon realli love u ue colour suit best rpli',\n",
       " 'mani depend',\n",
       " '',\n",
       " 'call said choos futur',\n",
       " 'appi valentin day know earli hundr handsom beauti wish thought finish aunti uncl st',\n",
       " 'e like v shock leh os tell shuhui like tell leona also ike dat almost know liao e got ask abt ur reaction lor',\n",
       " 'famili happi',\n",
       " 'come n pick ome immedi aft ur lesson',\n",
       " 'et snow et snow kind weather bring ppl togeth friendship grow',\n",
       " 'ear got lt gt dollar hi hi',\n",
       " 'ood word ut word may leav u dismay mani time',\n",
       " '',\n",
       " 'sorri got thing may pub later',\n",
       " 'ah straight bring bud drink someth actual littl use straight cash',\n",
       " 'aha good hear offici paid market th',\n",
       " 'ow mani lick take get center tootsi pop',\n",
       " 'thk r e teacher said make face look longer arren ask cut short',\n",
       " 'ew hat horni guy ur area p ree receiv earch postcod gaytextbuddi com name',\n",
       " 'oday odafon number end select receiv award f number match call receiv award',\n",
       " 'leas dont say like hi hi',\n",
       " 'hank u',\n",
       " 'h forward messag thought send',\n",
       " 'ot eventeen pound seven hundr ml hope ok',\n",
       " 'ear oucher older claim week offer go http www e tlp co uk expressoff appli stop text txt',\n",
       " 'e n funni',\n",
       " 'weetheart hope kind day ave one load reason smile iola',\n",
       " 'hen login dat time ad fetch home',\n",
       " 'hat shower babi',\n",
       " 'askd u question hour ts answer',\n",
       " 'ell imma definit need restock thanksgiv let know',\n",
       " 'said kiss kiss sound effect e gorgeou man ind person need smile brighten day',\n",
       " 'robabl gonna swing wee bit',\n",
       " 'nice readi thursday',\n",
       " 'allo e brave buse taken train triumph mean b ham ave jolli good rest week',\n",
       " 'atch cartoon listen music amp eve go templ amp church hat u',\n",
       " 'mind ask happen ou dont say uncomfort',\n",
       " 'account tatement show un redeem point dentifi ode xpire',\n",
       " 'prob send email',\n",
       " 'ou cash prize claim call ppm',\n",
       " 'hat cool ometim slow gentl onetim rough hard',\n",
       " 'gonna say orri would normal start panic time orri see uesday',\n",
       " 'ait know wesley town bet hella drug',\n",
       " 'ine miss much',\n",
       " 'id u got person stori',\n",
       " 'ell drug dealer get impati',\n",
       " 'un cant come earth send luv ray cloud cant come river send luv rain cant come meet send care msg ud evng',\n",
       " 'ou place man',\n",
       " 'doesnt make sens take unless free f need know wikipedia com',\n",
       " 'premium phone servic call',\n",
       " 'nder sea lay rock n rock envelop n envelop paper n paper word',\n",
       " 'hen mum repent',\n",
       " 'orri go home first addi come fetch later',\n",
       " 'eav de tart repar next',\n",
       " 'es babi e studi posit kama sutra',\n",
       " 'n chikku nang bakra msg kalstiya tea coffe',\n",
       " 'arlo minut still need buy',\n",
       " 'pay lt gt lakh',\n",
       " 'ave good even tyl',\n",
       " 'id u receiv msg',\n",
       " 'ho big belli laugh ee ya tomo',\n",
       " 'ac sun post ou seem cool want say hi top end',\n",
       " 'et ur st epli msg r tone phone everi week per wk opt send',\n",
       " 'itto worri say anymor ike said last night whatev want eac',\n",
       " 'got lt gt way could pick',\n",
       " 'dont knw pa drink milk',\n",
       " 'ayb ay hi find got card reat escap wetherspoon',\n",
       " 'iggi r u awak bet u still sleep go lunch',\n",
       " 'aus freaki lol',\n",
       " 'iss call caus yell scrappi iss u wait u come home lone today',\n",
       " 'hat hex place talk xplain',\n",
       " 'log wat sdryb',\n",
       " 'xy go e lunch',\n",
       " 'sue year old work lapdanc love sex ext live bedroom text ext perat ppmsg',\n",
       " 'want ask wait finish lect os lect finish hour anyway',\n",
       " 'ave finish work yet',\n",
       " 'ing nce ry abi reat uild nce ap ot mprtant r il ud ni',\n",
       " 'ear e cherthala case u r come cochin pl call bfore u start shall also reach accordingli tell day u r come tmorow engag an holiday',\n",
       " 'hank love ut torch bold',\n",
       " 'orward leas immedi urgent messag wait',\n",
       " 'farm open',\n",
       " 'orri troubl u buy dad big small sat n sun hanx',\n",
       " 'sister law hope great month ust say hey abiola',\n",
       " 'ill purchas stuff today mail po box number',\n",
       " 'ah poop ook like ill prob send laptop get fix cuz gpu problem',\n",
       " 'ood ood job like entrepreneur',\n",
       " 'aight close still around alex place',\n",
       " 'meet corpor st outsid gap see mind work',\n",
       " 'um ask buy food home',\n",
       " 'u also dont msg repli msg',\n",
       " 'ow much r will pay',\n",
       " 'orri call later',\n",
       " 'hat import prevent dehydr give enough fluid',\n",
       " 'hat bit weird even suppos happen ut good idea sure pub',\n",
       " 'rue dear sat pray even felt sm time',\n",
       " 'think get away trek long famili town sorri',\n",
       " 'wanna gym harri',\n",
       " 'uit late lar ard anyway wun b drivin',\n",
       " 'review fantast okia age game deck lub okia go www cnupdat com newslett unsubscrib alert repli word',\n",
       " 'mth half price rang line rental latest camera phone ad phone mth obil irect free updat stoptxt',\n",
       " 'eight onfid aeronaut professor wer calld amp wer askd sit aeroplan aftr sat wer told dat plane ws made student ey hurri plane didnt move e said made student wont even start atz confid',\n",
       " 'seem like weird time night g want come smoke day shitstorm attribut alway come make everyon smoke',\n",
       " 'pm ost p',\n",
       " 'ave stress f person dorm account send account detail money sent',\n",
       " 'e also know lunch menu da know',\n",
       " 'hen stuff sell tell',\n",
       " 'nd attempt contact b callcost ppm mobilesvari max',\n",
       " 'ook lesson msg call work sth go get spec membership',\n",
       " 'ou guarante cash prize claim yr prize call custom servic repres pm',\n",
       " 'acha dont feel upset assum mindset believ one even wonder plan us call anytim',\n",
       " 'h end address',\n",
       " 'fine anytim best',\n",
       " 'hat wondar full flim',\n",
       " 'even cooki jelli',\n",
       " 'world run still mayb feel admit mad correct let call life keep run world may u r also run let run',\n",
       " 'ot look scrumptiou daddi want eat night long',\n",
       " 'f co lar ba dao ok pm lor u never ask go ah said u would ask fri said u ask today',\n",
       " 'alright omw gotta chang order half th',\n",
       " 'xactli anyway far jide studi visit',\n",
       " 'unno u ask',\n",
       " 'mail alert rom eri tewart ize ubject ow cost prescripiton drvg listen email call',\n",
       " 'pring come earli yay',\n",
       " 'ol feel bad use money take steak dinner',\n",
       " 'ven u dont get troubl convinc tel twice tel neglect msg dont c read dont repli',\n",
       " 'eav qatar tonit search opportun went fast pl add ur prayer dear akhesh',\n",
       " 'hen one talk',\n",
       " 'hank look realli appreci',\n",
       " 'ustom oyalti ffer okia obil xt word get ow txt p msg',\n",
       " 'ish',\n",
       " 'aha mayb u rite know well feel like someon gd lor faster go find one gal group attach liao',\n",
       " 'es lad made',\n",
       " 'well littl time hing good time ahead',\n",
       " 'ust got room soon put clock back til shout everyon get realis wahay anoth hour bed',\n",
       " 'k may free gym',\n",
       " 'en like shorter ladi aze eye',\n",
       " 'unno ju say go lido ame time',\n",
       " 'promis take good care princess run leas send pic get chanc tyl',\n",
       " 'subscrib best obil ontent ervic per day send elplin',\n",
       " 'reason spoken year anyway great week best exam',\n",
       " 'monday next week ive full gist',\n",
       " 'realiz year thousand old ladi run around tattoo',\n",
       " 'ou import custom servic announc',\n",
       " 'ont gimm lip caveboy',\n",
       " 'hen get librari',\n",
       " 'eali sorri recognis number confus r u pleas',\n",
       " 'didnt holla',\n",
       " 'ant think anyon spare room top head',\n",
       " 'aith make thing possibl ope make thing work ove make thing beauti ay three hristma erri hristma',\n",
       " 'made appoint',\n",
       " 'carlo phone vibrat act might hear text',\n",
       " 'omant ari night flight ook next year appli',\n",
       " 'e grandma h dear u still ill felt hit morn think hungov anoth night e leav sat',\n",
       " 'rgent r guarante award still unclaim closingd claimcod pmmorefrommobil remov obi ox',\n",
       " 'oth ju tot u would ask co u ba gua ut went mt faber yest est ju went alreadi mah today go us call lor',\n",
       " 'ish famili erri ma ear advanc',\n",
       " 'award iti reak could ummer hop spree everi xt kil inawk age per sub',\n",
       " 'nt goin got somethin unless meetin dinner lor aha wonder go ti time',\n",
       " 'orri call later',\n",
       " 'cant pick phone right ls send messag',\n",
       " 'ol know hey dramat chool alreadi close tomorrow appar drive inch snow suppos get',\n",
       " 'ot get anywher damn job hunt',\n",
       " 'ol drunkard ust hair moment eah still tonight at plan',\n",
       " 'idc get weasel way shit twice row',\n",
       " 'wil lt gt minut ot space',\n",
       " 'ust sleep surf',\n",
       " 'hank pick trash',\n",
       " 'hy go tell friend sure want live smoke much spend hour beg come smoke',\n",
       " 'ate love see tonight ill phone tomorrow got sing guy gave card xxx',\n",
       " 'appi ew year dear brother realli miss ust got number decid send text wish happi abiola',\n",
       " 'hat mean get door',\n",
       " 'opinion ver ada usruthi ovabl ilent pl charact ot matur tylish impl ls repli',\n",
       " 'mmm thought said hour slave ou late ow punish',\n",
       " 'eerag',\n",
       " 'ou import custom servic announc',\n",
       " 'ont think turn like randomlli within min open',\n",
       " 'suppos make still town though',\n",
       " 'ost time fix spell ut sometim get complet diff word figur',\n",
       " 'ver thought live good life perfect partner ust txt back join mobil commun p',\n",
       " 'ree op olyphon one call ation ate et toppoli tune sent everi week text per pole n ub',\n",
       " 'ud mrng dear hav nice day',\n",
       " 'hope enjoy game yesterday orri touch pl know fondli bein thot ave great week abiola',\n",
       " 'e best ur drive tmr',\n",
       " '',\n",
       " 'mg want scream weigh lost weight oohoo',\n",
       " 'gener one uncount noun u dictionari piec research',\n",
       " 'realli get hang around',\n",
       " 'rang custom may claim upgrad loyalti ffer end th arch appli pt availa',\n",
       " 'etey boy wherear friendsar ingshead come canlov ic',\n",
       " 'k msg u b leav hous',\n",
       " 'imm lt gt minut ago',\n",
       " 'ast hanc laim ur worth discount voucher today ext ava ob offer mobil ava ob z ub',\n",
       " 'appt lt gt ot fault u listen told u twice',\n",
       " 'st week okia tone ur mobil everi week txt et txting tell ur mate www getz co uk ox norm p tone',\n",
       " 'ou guarante award even cashto claim award call free stop getstop',\n",
       " '',\n",
       " 'dled imp',\n",
       " 'sure make sure know smokin yet',\n",
       " 'oooo alway work ust quit',\n",
       " 'take half day leav bec well',\n",
       " 'gh wanna get bed warm',\n",
       " 'nervou lt gt',\n",
       " 'ring come guy costum gift futur yowif int hint',\n",
       " 'ongratul ur award either gift voucher ree entri weekli draw txt n www dew com win ppmx age',\n",
       " 'borrow ur bag ok',\n",
       " 'outbid simonwatson hinco lyr bid visit sm ac smsreward end bid notif repli',\n",
       " 'boytoy miss hat happen',\n",
       " 'e lot use one babe model help oui bring match',\n",
       " 'also bring galileo dobbi',\n",
       " 'hen respond',\n",
       " '',\n",
       " 'ood afternoon starshin ow boytoy oe crave yet ach fuck sip cappuccino miss babe teas kiss',\n",
       " 'n road cant txt',\n",
       " 'yourinclus text credit pl goto www comuk net login qxj unsubscrib extra charg help',\n",
       " 'p alfi oon hildren need song ur mob ell ur xt one chariti okia oli chariti poli zed profit chariti',\n",
       " 'ave good even tyl',\n",
       " 'mm piec lol sigh',\n",
       " 'ahaha use brain dear',\n",
       " 'ey ou got mail',\n",
       " 'orri light turn green meant anoth friend want lt gt worth may around',\n",
       " 'hank yesterday sir ou wonder ope enjoy burial oji iola',\n",
       " 'secret admir think special opt epli per msg recd ust care',\n",
       " 'mate u hav nice hol messag say hello coz sent u age start drive stay road x',\n",
       " 'ear oucher older claim week offer pleas go http www e tlp co uk expressoff appli stop text txt',\n",
       " 'hank much hen skype wit kz sura didnt get pleasur compani ope good e given ultimatum oh e countin aburo njoy messag sent day ago',\n",
       " 'ure result offer',\n",
       " 'ood orn ear ave great amp success day',\n",
       " 'want anytim network min text phone five pound per week call repli deliveri tomorrow',\n",
       " 'ir late pay rent past month pay lt gt charg felt would inconsider nag someth give great cost didnt speak howev recess wont abl pay charg month henc askin well ahead month end pleas help hank',\n",
       " 'e tri contact offer ew ideo hone anytim network min ental camcord call repli deliveri ed',\n",
       " 'ast chanc claim ur worth discount voucher ext ava ob member offer mobil ub emov txt',\n",
       " 'luv u soo much u understand special u r ring u morrow luv u xxx',\n",
       " 'ls send comprehens mail pay much',\n",
       " 'ur rashanthettan mother pass away last night pray famili',\n",
       " 'rgent call landlin complimentari biza oliday cash await collect ppm',\n",
       " 'k go',\n",
       " 'eanwhil shit suit xavier decid give us lt gt second warn samantha come play jay guitar impress shit also think doug realiz live anymor',\n",
       " 'stomach thru much trauma swear eat better lose weight',\n",
       " 'offic what matter msg call break',\n",
       " 'eah bare enough room two us x mani fuck shoe orri man see later',\n",
       " 'oday ffer laim ur worth discount voucher ext ava ob member offer mobil ub nsub repli',\n",
       " 'reach orchard alreadi wan go buy ticket first',\n",
       " 'real babi want bring inner tigress',\n",
       " 'da run activ full version da',\n",
       " '',\n",
       " 'top stori told return say order',\n",
       " 'alk sexi ake new friend fall love world discreet text date servic ust text see could meet',\n",
       " 'o take babe',\n",
       " 'ai ana tomarrow come morn lt gt ill sathi go offic epli came home',\n",
       " 'poon okay',\n",
       " 'id say somebodi name tampa',\n",
       " 'n work o min',\n",
       " 'brother geniu',\n",
       " 'orri guess whenev get hold connect mayb hour two text',\n",
       " 'id u find time bu coz need sort stuff',\n",
       " 'ude ive see lotta corvett late',\n",
       " 'ongratul ur award either yr suppli irgin ecord ysteri ift www smsco net pm approx min',\n",
       " 'ame consid wall bunker shit import never play peac guess place high enough matter',\n",
       " 'account tatement show un redeem point dentifi ode xpire',\n",
       " 'ello e need posh bird chap user trial prod champney put need address dob asap r',\n",
       " 'hat want ma ow free text messag new video phone half price line rental free find',\n",
       " 'ell offici philosoph hole u wanna call home readi save',\n",
       " 'ts go good problem still need littl experi understand american custom voic',\n",
       " 'text drop x',\n",
       " 'gh long day exhaust ust want cuddl take nap',\n",
       " 'alk ith ourself atleast nce n ay therwis ou ill iss est n hakespear lt gt',\n",
       " 'hop till u rop either ash ravel voucher ox fixedlin ost ppm mobil vari',\n",
       " 'castor ou need see someth',\n",
       " 'unshin uiz kli top oni player u know countri iverpool play mid week xt ansr yrone',\n",
       " 'secret admir look make contact find reveal think special call',\n",
       " 'ecret admir look make contact find reveal think special call stopsm',\n",
       " 'emind ou download content alreadi paid oto http doit mymobi tv collect content',\n",
       " 'see knew give break time woul lead alway want miss curfew gonna gibe til one movi gonna get til ou need come home ou need getsleep anyth need b studdi ear train',\n",
       " 'love give massag use lot babi oil hat fave posit',\n",
       " 'ude go sup',\n",
       " 'oyyooo u know chang permiss drive mac usb flash drive',\n",
       " 'ibb unsold mike hussey',\n",
       " 'like talk pa abl dont know',\n",
       " 'dun cut short leh dun like ah fail quit sad',\n",
       " 'ou unbeliev faglord',\n",
       " 'ife knew time murder exactli',\n",
       " 'hy ask princess',\n",
       " 'great princess hat think',\n",
       " 'utter utter tter ttergg ttargg targg tagg ie',\n",
       " 'ok noe u busi realli bore msg u oso dunno wat colour choos one',\n",
       " 'oesn g class earli tomorrow thu tri smoke lt gt',\n",
       " 'uperb hought e grate u dont everyth u want hat mean u still opportun happier tomorrow u today',\n",
       " 'ope good week ust check',\n",
       " 'use hope agent drop sinc book thing year whole boston nyc experi',\n",
       " 'hursday night eah sure thing work',\n",
       " 'free rington wait collect impli text password verifi et sher ritney ox pw',\n",
       " 'robabl money worri hing come due sever outstand invoic work two three month ago',\n",
       " 'ow possibl teach',\n",
       " 'wonder phone batteri went dead tell love babe',\n",
       " 'ove smell bu tobacco',\n",
       " 'e get worri derek taylor alreadi assum worst',\n",
       " 'ey charl sorri late repli',\n",
       " 'lastest tereophon arley izze acal ibertin troke ookii game lirt lick ob ookmark text',\n",
       " 'give lu said grinul greet whenev speak',\n",
       " '',\n",
       " 'anuari ale ale ot ay chat cheaper call ation rate p min cheap p min peak stop text call p min',\n",
       " 'love ow come took long leav zaher got word ym happi see sad left miss',\n",
       " 'sorri hurt',\n",
       " 'feel nauseou piss eat sweet week caus today plan pig diet week hungri',\n",
       " 'k lor earli e still project meet',\n",
       " 'da wait call',\n",
       " 'could ask carlo could get anybodi els chip',\n",
       " 'actual send remind today ave wonder weekend',\n",
       " 'hen peopl see msg hey think addict msging hey wrong coz hey know addict sweet riend',\n",
       " 'ey gave photo regist drive ah mr wanna meet yck',\n",
       " 'ont talk ever ok word',\n",
       " 'hen u wana see',\n",
       " 'n way school pl send ashley number',\n",
       " 'shall fine avalarr ill hollalat',\n",
       " 'went attend anoth two round today still reach home',\n",
       " 'actual delet old websit blog magicalsong blogspot com',\n",
       " 'wait chikku il send aftr lt gt min',\n",
       " 'ut diet ate mani slice pizza yesterday gh diet',\n",
       " 'give kvb acc detail',\n",
       " 'h come ah',\n",
       " 'money r lucki winner claim prize text money million give away ppt x normal text rate box w jy',\n",
       " 'realli sorri b abl friday hope u find altern hope yr term go ok',\n",
       " 'ongratul ore mo owo wa njoy wish mani happi moment fro wherev go',\n",
       " 'samu shoulder yet',\n",
       " 'hat time think eed know near campu',\n",
       " 'ear atthew pleas call landlin complimentari ux enerif holiday await collect ppm ox',\n",
       " 'hen dun wear jean lor',\n",
       " 'inc side fever vomitin',\n",
       " 'k colleg',\n",
       " 'rgent call andlin complimentari enerif oliday cash await collect ppm',\n",
       " 'etter ade riday stuf like pig yesterday ow feel bleh ut least writh pain kind bleh',\n",
       " 'sell ton coin hen sell coin someon thru paypal oila oney back life pocket',\n",
       " 'heyr lot place nli hospit medic place safe',\n",
       " 'ow get touch folk wait compani ust txt back opt njoy commun p',\n",
       " 'also sorta blown coupl time recent id rather text blue look weed',\n",
       " 'sent score sopha secondari applic school think think appli research cost also ontact joke ogunrind school one less expens one',\n",
       " 'cant wait see ow photo use',\n",
       " 'r cash balanc current pound maxim ur cash send p msg',\n",
       " 'ey book kb sat alreadi lesson go ah eep sat night free need meet confirm lodg',\n",
       " 'hk ur belovd ms dict',\n",
       " 'time want come',\n",
       " 'awesom lemm know whenev around',\n",
       " 'hb b ok lor hanx',\n",
       " 'eauti ruth raviti ead care ur heart feel light someon ut feel heavi someon leav',\n",
       " 'also rememb get dobbi bowl car',\n",
       " 'ilthi stori wait',\n",
       " 'orri c ur msg ar lor poor thing ut one night mr u brand new room sleep',\n",
       " 'ove decis feel f could decid love life would much simpler less magic',\n",
       " 'elp appar retir',\n",
       " 'sort code acc bank natwest repli confirm sent right person',\n",
       " '',\n",
       " 'sure u take sick time',\n",
       " 'e tri contact oday draw show prize land line laim alid hr',\n",
       " 'atch cartoon listen music amp eve go templ amp church hat u',\n",
       " 'chad gymnast class wanna take site say hristian class full',\n",
       " 'much buzi',\n",
       " 'r better still catch let ask sell lt gt',\n",
       " 'sure night menu know noon menu',\n",
       " 'hat u want come back beauti necklac token heart that give give dont call wait till come',\n",
       " 'will go aptitud class',\n",
       " 'wont b tri sort hous ok',\n",
       " 'ar lor wan go c hors race today mah eat earlier lor ate chicken rice',\n",
       " 'aha awesom omw back',\n",
       " 'thk e shop close lor',\n",
       " 'account number',\n",
       " 'h u send wrongli lar',\n",
       " 'ey ad crap nite borin without ya boggi u bore biatch hanx u wait til nxt time il ave ya',\n",
       " 'k shall talk',\n",
       " 'ont hesit ou know second time weak like keep notebook eat day anyth chang day sure noth',\n",
       " 'ey pay ith salari de nli lt gt',\n",
       " 'anoth month need chocol weed alcohol',\n",
       " 'f start search get job day great potenti talent',\n",
       " 'eckon need town eightish walk carpark',\n",
       " 'ongrat mobil ideophon call videochat wid mate play java game load poli music nolin rentl',\n",
       " '',\n",
       " 'guess drop',\n",
       " 'arlo say mu lt gt minut',\n",
       " 'offic call lt gt min',\n",
       " 'eeee miss alreadi know think uck wait till next year togeth love kiss',\n",
       " 'un ah ubi one say wan call tomorrow call look iren ere got bu bi cre ubi tech park ph st wkg day n',\n",
       " 'gh otta drive back sd la butt sore',\n",
       " 'th',\n",
       " 'im relax time ever get everi day parti good night get home tomorrow ish',\n",
       " 'p wan come come lor ut din c stripe skirt',\n",
       " 'ma stori peac ma msg love ma miracl jesu av bless month ahead amp wish erri ma',\n",
       " 'number',\n",
       " 'hang e one next escal',\n",
       " 'etund class run water make ok ls',\n",
       " 'ot lot happen eel quiet eth aunt charli work lot ust helen mo ow',\n",
       " 'hen wait bu stop aft ur lect lar f dun c go get car come back n pick',\n",
       " ...]"
      ]
     },
     "execution_count": 11,
     "metadata": {},
     "output_type": "execute_result"
    }
   ],
   "source": [
    "corpus"
   ]
  },
  {
   "cell_type": "code",
   "execution_count": 12,
   "id": "096d5e56-ca10-47c7-a671-dc76834722ad",
   "metadata": {},
   "outputs": [
    {
     "data": {
      "text/plain": [
       "5572"
      ]
     },
     "execution_count": 12,
     "metadata": {},
     "output_type": "execute_result"
    }
   ],
   "source": [
    "len(corpus)"
   ]
  },
  {
   "cell_type": "code",
   "execution_count": 13,
   "id": "a41d1f2d-37aa-40e8-9c8f-ad75f990eef7",
   "metadata": {},
   "outputs": [],
   "source": [
    "from sklearn.feature_extraction.text import CountVectorizer\n",
    "from sklearn.feature_extraction.text import TfidfVectorizer"
   ]
  },
  {
   "cell_type": "code",
   "execution_count": 106,
   "id": "44d56cf9-94f5-476e-9245-27b6943e5e28",
   "metadata": {},
   "outputs": [
    {
     "data": {
      "text/html": [
       "<style>#sk-container-id-6 {color: black;background-color: white;}#sk-container-id-6 pre{padding: 0;}#sk-container-id-6 div.sk-toggleable {background-color: white;}#sk-container-id-6 label.sk-toggleable__label {cursor: pointer;display: block;width: 100%;margin-bottom: 0;padding: 0.3em;box-sizing: border-box;text-align: center;}#sk-container-id-6 label.sk-toggleable__label-arrow:before {content: \"▸\";float: left;margin-right: 0.25em;color: #696969;}#sk-container-id-6 label.sk-toggleable__label-arrow:hover:before {color: black;}#sk-container-id-6 div.sk-estimator:hover label.sk-toggleable__label-arrow:before {color: black;}#sk-container-id-6 div.sk-toggleable__content {max-height: 0;max-width: 0;overflow: hidden;text-align: left;background-color: #f0f8ff;}#sk-container-id-6 div.sk-toggleable__content pre {margin: 0.2em;color: black;border-radius: 0.25em;background-color: #f0f8ff;}#sk-container-id-6 input.sk-toggleable__control:checked~div.sk-toggleable__content {max-height: 200px;max-width: 100%;overflow: auto;}#sk-container-id-6 input.sk-toggleable__control:checked~label.sk-toggleable__label-arrow:before {content: \"▾\";}#sk-container-id-6 div.sk-estimator input.sk-toggleable__control:checked~label.sk-toggleable__label {background-color: #d4ebff;}#sk-container-id-6 div.sk-label input.sk-toggleable__control:checked~label.sk-toggleable__label {background-color: #d4ebff;}#sk-container-id-6 input.sk-hidden--visually {border: 0;clip: rect(1px 1px 1px 1px);clip: rect(1px, 1px, 1px, 1px);height: 1px;margin: -1px;overflow: hidden;padding: 0;position: absolute;width: 1px;}#sk-container-id-6 div.sk-estimator {font-family: monospace;background-color: #f0f8ff;border: 1px dotted black;border-radius: 0.25em;box-sizing: border-box;margin-bottom: 0.5em;}#sk-container-id-6 div.sk-estimator:hover {background-color: #d4ebff;}#sk-container-id-6 div.sk-parallel-item::after {content: \"\";width: 100%;border-bottom: 1px solid gray;flex-grow: 1;}#sk-container-id-6 div.sk-label:hover label.sk-toggleable__label {background-color: #d4ebff;}#sk-container-id-6 div.sk-serial::before {content: \"\";position: absolute;border-left: 1px solid gray;box-sizing: border-box;top: 0;bottom: 0;left: 50%;z-index: 0;}#sk-container-id-6 div.sk-serial {display: flex;flex-direction: column;align-items: center;background-color: white;padding-right: 0.2em;padding-left: 0.2em;position: relative;}#sk-container-id-6 div.sk-item {position: relative;z-index: 1;}#sk-container-id-6 div.sk-parallel {display: flex;align-items: stretch;justify-content: center;background-color: white;position: relative;}#sk-container-id-6 div.sk-item::before, #sk-container-id-6 div.sk-parallel-item::before {content: \"\";position: absolute;border-left: 1px solid gray;box-sizing: border-box;top: 0;bottom: 0;left: 50%;z-index: -1;}#sk-container-id-6 div.sk-parallel-item {display: flex;flex-direction: column;z-index: 1;position: relative;background-color: white;}#sk-container-id-6 div.sk-parallel-item:first-child::after {align-self: flex-end;width: 50%;}#sk-container-id-6 div.sk-parallel-item:last-child::after {align-self: flex-start;width: 50%;}#sk-container-id-6 div.sk-parallel-item:only-child::after {width: 0;}#sk-container-id-6 div.sk-dashed-wrapped {border: 1px dashed gray;margin: 0 0.4em 0.5em 0.4em;box-sizing: border-box;padding-bottom: 0.4em;background-color: white;}#sk-container-id-6 div.sk-label label {font-family: monospace;font-weight: bold;display: inline-block;line-height: 1.2em;}#sk-container-id-6 div.sk-label-container {text-align: center;}#sk-container-id-6 div.sk-container {/* jupyter's `normalize.less` sets `[hidden] { display: none; }` but bootstrap.min.css set `[hidden] { display: none !important; }` so we also need the `!important` here to be able to override the default hidden behavior on the sphinx rendered scikit-learn.org. See: https://github.com/scikit-learn/scikit-learn/issues/21755 */display: inline-block !important;position: relative;}#sk-container-id-6 div.sk-text-repr-fallback {display: none;}</style><div id=\"sk-container-id-6\" class=\"sk-top-container\"><div class=\"sk-text-repr-fallback\"><pre>CountVectorizer(binary=True, max_features=10, ngram_range=(2, 2))</pre><b>In a Jupyter environment, please rerun this cell to show the HTML representation or trust the notebook. <br />On GitHub, the HTML representation is unable to render, please try loading this page with nbviewer.org.</b></div><div class=\"sk-container\" hidden><div class=\"sk-item\"><div class=\"sk-estimator sk-toggleable\"><input class=\"sk-toggleable__control sk-hidden--visually\" id=\"sk-estimator-id-6\" type=\"checkbox\" checked><label for=\"sk-estimator-id-6\" class=\"sk-toggleable__label sk-toggleable__label-arrow\">CountVectorizer</label><div class=\"sk-toggleable__content\"><pre>CountVectorizer(binary=True, max_features=10, ngram_range=(2, 2))</pre></div></div></div></div></div>"
      ],
      "text/plain": [
       "CountVectorizer(binary=True, max_features=10, ngram_range=(2, 2))"
      ]
     },
     "execution_count": 106,
     "metadata": {},
     "output_type": "execute_result"
    }
   ],
   "source": [
    "bow=CountVectorizer(ngram_range=(2,2),max_features=10,binary=True)\n",
    "bow"
   ]
  },
  {
   "cell_type": "code",
   "execution_count": 107,
   "id": "bbad6104-bea6-47c4-881b-24244aa7c6d9",
   "metadata": {},
   "outputs": [
    {
     "data": {
      "text/plain": [
       "array([[0, 0, 0, ..., 0, 0, 0],\n",
       "       [0, 0, 0, ..., 0, 0, 0],\n",
       "       [0, 0, 0, ..., 0, 0, 0],\n",
       "       ...,\n",
       "       [0, 0, 0, ..., 0, 0, 0],\n",
       "       [0, 0, 0, ..., 0, 0, 0],\n",
       "       [0, 0, 0, ..., 0, 0, 0]], dtype=int64)"
      ]
     },
     "execution_count": 107,
     "metadata": {},
     "output_type": "execute_result"
    }
   ],
   "source": [
    "new=bow.fit_transform(corpus)\n",
    "new.toarray()"
   ]
  },
  {
   "cell_type": "code",
   "execution_count": 108,
   "id": "130f2710-f010-4051-adab-0e72244ff2df",
   "metadata": {},
   "outputs": [
    {
     "data": {
      "text/plain": [
       "(5572, 10)"
      ]
     },
     "execution_count": 108,
     "metadata": {},
     "output_type": "execute_result"
    }
   ],
   "source": [
    "new.shape"
   ]
  },
  {
   "cell_type": "code",
   "execution_count": 109,
   "id": "659ebac1-8aaf-42ad-8cd3-254cdd8ba90b",
   "metadata": {},
   "outputs": [
    {
     "data": {
      "text/plain": [
       "5572"
      ]
     },
     "execution_count": 109,
     "metadata": {},
     "output_type": "execute_result"
    }
   ],
   "source": [
    "len(df[\"messege\"])"
   ]
  },
  {
   "cell_type": "code",
   "execution_count": 110,
   "id": "c996ec9a-8835-447c-b703-dfa5771585b4",
   "metadata": {
    "scrolled": true
   },
   "outputs": [
    {
     "data": {
      "text/html": [
       "<div>\n",
       "<style scoped>\n",
       "    .dataframe tbody tr th:only-of-type {\n",
       "        vertical-align: middle;\n",
       "    }\n",
       "\n",
       "    .dataframe tbody tr th {\n",
       "        vertical-align: top;\n",
       "    }\n",
       "\n",
       "    .dataframe thead th {\n",
       "        text-align: right;\n",
       "    }\n",
       "</style>\n",
       "<table border=\"1\" class=\"dataframe\">\n",
       "  <thead>\n",
       "    <tr style=\"text-align: right;\">\n",
       "      <th></th>\n",
       "      <th>spam</th>\n",
       "    </tr>\n",
       "  </thead>\n",
       "  <tbody>\n",
       "    <tr>\n",
       "      <th>0</th>\n",
       "      <td>0</td>\n",
       "    </tr>\n",
       "    <tr>\n",
       "      <th>1</th>\n",
       "      <td>0</td>\n",
       "    </tr>\n",
       "    <tr>\n",
       "      <th>2</th>\n",
       "      <td>1</td>\n",
       "    </tr>\n",
       "    <tr>\n",
       "      <th>3</th>\n",
       "      <td>0</td>\n",
       "    </tr>\n",
       "    <tr>\n",
       "      <th>4</th>\n",
       "      <td>0</td>\n",
       "    </tr>\n",
       "    <tr>\n",
       "      <th>...</th>\n",
       "      <td>...</td>\n",
       "    </tr>\n",
       "    <tr>\n",
       "      <th>5567</th>\n",
       "      <td>1</td>\n",
       "    </tr>\n",
       "    <tr>\n",
       "      <th>5568</th>\n",
       "      <td>0</td>\n",
       "    </tr>\n",
       "    <tr>\n",
       "      <th>5569</th>\n",
       "      <td>0</td>\n",
       "    </tr>\n",
       "    <tr>\n",
       "      <th>5570</th>\n",
       "      <td>0</td>\n",
       "    </tr>\n",
       "    <tr>\n",
       "      <th>5571</th>\n",
       "      <td>0</td>\n",
       "    </tr>\n",
       "  </tbody>\n",
       "</table>\n",
       "<p>5572 rows × 1 columns</p>\n",
       "</div>"
      ],
      "text/plain": [
       "      spam\n",
       "0        0\n",
       "1        0\n",
       "2        1\n",
       "3        0\n",
       "4        0\n",
       "...    ...\n",
       "5567     1\n",
       "5568     0\n",
       "5569     0\n",
       "5570     0\n",
       "5571     0\n",
       "\n",
       "[5572 rows x 1 columns]"
      ]
     },
     "execution_count": 110,
     "metadata": {},
     "output_type": "execute_result"
    }
   ],
   "source": [
    "y=pd.get_dummies(df[\"lebel\"],drop_first=True).astype(int)\n",
    "y"
   ]
  },
  {
   "cell_type": "code",
   "execution_count": null,
   "id": "7f43f806-c30e-42e2-be23-81f144b4c33a",
   "metadata": {},
   "outputs": [],
   "source": []
  },
  {
   "cell_type": "code",
   "execution_count": null,
   "id": "39fa5236-a0fc-4897-b49a-d368db2d86ba",
   "metadata": {},
   "outputs": [],
   "source": []
  },
  {
   "cell_type": "code",
   "execution_count": 111,
   "id": "8792cb96-0d5a-448f-aa96-6d3a31489e3f",
   "metadata": {},
   "outputs": [],
   "source": [
    "from sklearn.model_selection import train_test_split\n",
    "from sklearn.naive_bayes import MultinomialNB"
   ]
  },
  {
   "cell_type": "code",
   "execution_count": 112,
   "id": "8d2d121c-b435-49d2-b298-6b484dd2c849",
   "metadata": {},
   "outputs": [
    {
     "data": {
      "text/plain": [
       "array([0, 0, 0, 0, 0, 0, 0, 0, 0, 0], dtype=int64)"
      ]
     },
     "execution_count": 112,
     "metadata": {},
     "output_type": "execute_result"
    }
   ],
   "source": [
    "X=new.toarray()\n",
    "X[0]"
   ]
  },
  {
   "cell_type": "code",
   "execution_count": 113,
   "id": "41d8136e-ad7d-4192-9ad3-999d7ee5038a",
   "metadata": {},
   "outputs": [
    {
     "data": {
      "text/html": [
       "<div>\n",
       "<style scoped>\n",
       "    .dataframe tbody tr th:only-of-type {\n",
       "        vertical-align: middle;\n",
       "    }\n",
       "\n",
       "    .dataframe tbody tr th {\n",
       "        vertical-align: top;\n",
       "    }\n",
       "\n",
       "    .dataframe thead th {\n",
       "        text-align: right;\n",
       "    }\n",
       "</style>\n",
       "<table border=\"1\" class=\"dataframe\">\n",
       "  <thead>\n",
       "    <tr style=\"text-align: right;\">\n",
       "      <th></th>\n",
       "      <th>spam</th>\n",
       "    </tr>\n",
       "  </thead>\n",
       "  <tbody>\n",
       "    <tr>\n",
       "      <th>0</th>\n",
       "      <td>0</td>\n",
       "    </tr>\n",
       "    <tr>\n",
       "      <th>1</th>\n",
       "      <td>0</td>\n",
       "    </tr>\n",
       "    <tr>\n",
       "      <th>2</th>\n",
       "      <td>1</td>\n",
       "    </tr>\n",
       "    <tr>\n",
       "      <th>3</th>\n",
       "      <td>0</td>\n",
       "    </tr>\n",
       "    <tr>\n",
       "      <th>4</th>\n",
       "      <td>0</td>\n",
       "    </tr>\n",
       "    <tr>\n",
       "      <th>...</th>\n",
       "      <td>...</td>\n",
       "    </tr>\n",
       "    <tr>\n",
       "      <th>5567</th>\n",
       "      <td>1</td>\n",
       "    </tr>\n",
       "    <tr>\n",
       "      <th>5568</th>\n",
       "      <td>0</td>\n",
       "    </tr>\n",
       "    <tr>\n",
       "      <th>5569</th>\n",
       "      <td>0</td>\n",
       "    </tr>\n",
       "    <tr>\n",
       "      <th>5570</th>\n",
       "      <td>0</td>\n",
       "    </tr>\n",
       "    <tr>\n",
       "      <th>5571</th>\n",
       "      <td>0</td>\n",
       "    </tr>\n",
       "  </tbody>\n",
       "</table>\n",
       "<p>5572 rows × 1 columns</p>\n",
       "</div>"
      ],
      "text/plain": [
       "      spam\n",
       "0        0\n",
       "1        0\n",
       "2        1\n",
       "3        0\n",
       "4        0\n",
       "...    ...\n",
       "5567     1\n",
       "5568     0\n",
       "5569     0\n",
       "5570     0\n",
       "5571     0\n",
       "\n",
       "[5572 rows x 1 columns]"
      ]
     },
     "execution_count": 113,
     "metadata": {},
     "output_type": "execute_result"
    }
   ],
   "source": [
    "y"
   ]
  },
  {
   "cell_type": "code",
   "execution_count": 114,
   "id": "910463cf-da4a-4378-9eee-9240809c99c8",
   "metadata": {},
   "outputs": [],
   "source": [
    "Xtrain,Xtest,ytrain,ytest=train_test_split(X,y,test_size=.20,random_state=41)"
   ]
  },
  {
   "cell_type": "code",
   "execution_count": 115,
   "id": "92612b7b-1cb1-4ee3-a5f4-585dc132fe0b",
   "metadata": {},
   "outputs": [
    {
     "data": {
      "text/plain": [
       "((4457, 10), (4457, 1), (1115, 10), (1115, 1))"
      ]
     },
     "execution_count": 115,
     "metadata": {},
     "output_type": "execute_result"
    }
   ],
   "source": [
    "Xtrain.shape,ytrain.shape,Xtest.shape,ytest.shape"
   ]
  },
  {
   "cell_type": "code",
   "execution_count": 116,
   "id": "9a9e31ab-e9f4-4d63-ad16-c9d1af0c1caa",
   "metadata": {},
   "outputs": [
    {
     "data": {
      "text/html": [
       "<style>#sk-container-id-7 {color: black;background-color: white;}#sk-container-id-7 pre{padding: 0;}#sk-container-id-7 div.sk-toggleable {background-color: white;}#sk-container-id-7 label.sk-toggleable__label {cursor: pointer;display: block;width: 100%;margin-bottom: 0;padding: 0.3em;box-sizing: border-box;text-align: center;}#sk-container-id-7 label.sk-toggleable__label-arrow:before {content: \"▸\";float: left;margin-right: 0.25em;color: #696969;}#sk-container-id-7 label.sk-toggleable__label-arrow:hover:before {color: black;}#sk-container-id-7 div.sk-estimator:hover label.sk-toggleable__label-arrow:before {color: black;}#sk-container-id-7 div.sk-toggleable__content {max-height: 0;max-width: 0;overflow: hidden;text-align: left;background-color: #f0f8ff;}#sk-container-id-7 div.sk-toggleable__content pre {margin: 0.2em;color: black;border-radius: 0.25em;background-color: #f0f8ff;}#sk-container-id-7 input.sk-toggleable__control:checked~div.sk-toggleable__content {max-height: 200px;max-width: 100%;overflow: auto;}#sk-container-id-7 input.sk-toggleable__control:checked~label.sk-toggleable__label-arrow:before {content: \"▾\";}#sk-container-id-7 div.sk-estimator input.sk-toggleable__control:checked~label.sk-toggleable__label {background-color: #d4ebff;}#sk-container-id-7 div.sk-label input.sk-toggleable__control:checked~label.sk-toggleable__label {background-color: #d4ebff;}#sk-container-id-7 input.sk-hidden--visually {border: 0;clip: rect(1px 1px 1px 1px);clip: rect(1px, 1px, 1px, 1px);height: 1px;margin: -1px;overflow: hidden;padding: 0;position: absolute;width: 1px;}#sk-container-id-7 div.sk-estimator {font-family: monospace;background-color: #f0f8ff;border: 1px dotted black;border-radius: 0.25em;box-sizing: border-box;margin-bottom: 0.5em;}#sk-container-id-7 div.sk-estimator:hover {background-color: #d4ebff;}#sk-container-id-7 div.sk-parallel-item::after {content: \"\";width: 100%;border-bottom: 1px solid gray;flex-grow: 1;}#sk-container-id-7 div.sk-label:hover label.sk-toggleable__label {background-color: #d4ebff;}#sk-container-id-7 div.sk-serial::before {content: \"\";position: absolute;border-left: 1px solid gray;box-sizing: border-box;top: 0;bottom: 0;left: 50%;z-index: 0;}#sk-container-id-7 div.sk-serial {display: flex;flex-direction: column;align-items: center;background-color: white;padding-right: 0.2em;padding-left: 0.2em;position: relative;}#sk-container-id-7 div.sk-item {position: relative;z-index: 1;}#sk-container-id-7 div.sk-parallel {display: flex;align-items: stretch;justify-content: center;background-color: white;position: relative;}#sk-container-id-7 div.sk-item::before, #sk-container-id-7 div.sk-parallel-item::before {content: \"\";position: absolute;border-left: 1px solid gray;box-sizing: border-box;top: 0;bottom: 0;left: 50%;z-index: -1;}#sk-container-id-7 div.sk-parallel-item {display: flex;flex-direction: column;z-index: 1;position: relative;background-color: white;}#sk-container-id-7 div.sk-parallel-item:first-child::after {align-self: flex-end;width: 50%;}#sk-container-id-7 div.sk-parallel-item:last-child::after {align-self: flex-start;width: 50%;}#sk-container-id-7 div.sk-parallel-item:only-child::after {width: 0;}#sk-container-id-7 div.sk-dashed-wrapped {border: 1px dashed gray;margin: 0 0.4em 0.5em 0.4em;box-sizing: border-box;padding-bottom: 0.4em;background-color: white;}#sk-container-id-7 div.sk-label label {font-family: monospace;font-weight: bold;display: inline-block;line-height: 1.2em;}#sk-container-id-7 div.sk-label-container {text-align: center;}#sk-container-id-7 div.sk-container {/* jupyter's `normalize.less` sets `[hidden] { display: none; }` but bootstrap.min.css set `[hidden] { display: none !important; }` so we also need the `!important` here to be able to override the default hidden behavior on the sphinx rendered scikit-learn.org. See: https://github.com/scikit-learn/scikit-learn/issues/21755 */display: inline-block !important;position: relative;}#sk-container-id-7 div.sk-text-repr-fallback {display: none;}</style><div id=\"sk-container-id-7\" class=\"sk-top-container\"><div class=\"sk-text-repr-fallback\"><pre>MultinomialNB()</pre><b>In a Jupyter environment, please rerun this cell to show the HTML representation or trust the notebook. <br />On GitHub, the HTML representation is unable to render, please try loading this page with nbviewer.org.</b></div><div class=\"sk-container\" hidden><div class=\"sk-item\"><div class=\"sk-estimator sk-toggleable\"><input class=\"sk-toggleable__control sk-hidden--visually\" id=\"sk-estimator-id-7\" type=\"checkbox\" checked><label for=\"sk-estimator-id-7\" class=\"sk-toggleable__label sk-toggleable__label-arrow\">MultinomialNB</label><div class=\"sk-toggleable__content\"><pre>MultinomialNB()</pre></div></div></div></div></div>"
      ],
      "text/plain": [
       "MultinomialNB()"
      ]
     },
     "execution_count": 116,
     "metadata": {},
     "output_type": "execute_result"
    }
   ],
   "source": [
    "model=MultinomialNB()\n",
    "model"
   ]
  },
  {
   "cell_type": "code",
   "execution_count": 117,
   "id": "e4bc887b-775b-493b-bef9-751faed500d7",
   "metadata": {},
   "outputs": [
    {
     "name": "stderr",
     "output_type": "stream",
     "text": [
      "C:\\Users\\SOUMYA\\anaconda3\\Lib\\site-packages\\sklearn\\utils\\validation.py:1143: DataConversionWarning: A column-vector y was passed when a 1d array was expected. Please change the shape of y to (n_samples, ), for example using ravel().\n",
      "  y = column_or_1d(y, warn=True)\n"
     ]
    },
    {
     "data": {
      "text/html": [
       "<style>#sk-container-id-8 {color: black;background-color: white;}#sk-container-id-8 pre{padding: 0;}#sk-container-id-8 div.sk-toggleable {background-color: white;}#sk-container-id-8 label.sk-toggleable__label {cursor: pointer;display: block;width: 100%;margin-bottom: 0;padding: 0.3em;box-sizing: border-box;text-align: center;}#sk-container-id-8 label.sk-toggleable__label-arrow:before {content: \"▸\";float: left;margin-right: 0.25em;color: #696969;}#sk-container-id-8 label.sk-toggleable__label-arrow:hover:before {color: black;}#sk-container-id-8 div.sk-estimator:hover label.sk-toggleable__label-arrow:before {color: black;}#sk-container-id-8 div.sk-toggleable__content {max-height: 0;max-width: 0;overflow: hidden;text-align: left;background-color: #f0f8ff;}#sk-container-id-8 div.sk-toggleable__content pre {margin: 0.2em;color: black;border-radius: 0.25em;background-color: #f0f8ff;}#sk-container-id-8 input.sk-toggleable__control:checked~div.sk-toggleable__content {max-height: 200px;max-width: 100%;overflow: auto;}#sk-container-id-8 input.sk-toggleable__control:checked~label.sk-toggleable__label-arrow:before {content: \"▾\";}#sk-container-id-8 div.sk-estimator input.sk-toggleable__control:checked~label.sk-toggleable__label {background-color: #d4ebff;}#sk-container-id-8 div.sk-label input.sk-toggleable__control:checked~label.sk-toggleable__label {background-color: #d4ebff;}#sk-container-id-8 input.sk-hidden--visually {border: 0;clip: rect(1px 1px 1px 1px);clip: rect(1px, 1px, 1px, 1px);height: 1px;margin: -1px;overflow: hidden;padding: 0;position: absolute;width: 1px;}#sk-container-id-8 div.sk-estimator {font-family: monospace;background-color: #f0f8ff;border: 1px dotted black;border-radius: 0.25em;box-sizing: border-box;margin-bottom: 0.5em;}#sk-container-id-8 div.sk-estimator:hover {background-color: #d4ebff;}#sk-container-id-8 div.sk-parallel-item::after {content: \"\";width: 100%;border-bottom: 1px solid gray;flex-grow: 1;}#sk-container-id-8 div.sk-label:hover label.sk-toggleable__label {background-color: #d4ebff;}#sk-container-id-8 div.sk-serial::before {content: \"\";position: absolute;border-left: 1px solid gray;box-sizing: border-box;top: 0;bottom: 0;left: 50%;z-index: 0;}#sk-container-id-8 div.sk-serial {display: flex;flex-direction: column;align-items: center;background-color: white;padding-right: 0.2em;padding-left: 0.2em;position: relative;}#sk-container-id-8 div.sk-item {position: relative;z-index: 1;}#sk-container-id-8 div.sk-parallel {display: flex;align-items: stretch;justify-content: center;background-color: white;position: relative;}#sk-container-id-8 div.sk-item::before, #sk-container-id-8 div.sk-parallel-item::before {content: \"\";position: absolute;border-left: 1px solid gray;box-sizing: border-box;top: 0;bottom: 0;left: 50%;z-index: -1;}#sk-container-id-8 div.sk-parallel-item {display: flex;flex-direction: column;z-index: 1;position: relative;background-color: white;}#sk-container-id-8 div.sk-parallel-item:first-child::after {align-self: flex-end;width: 50%;}#sk-container-id-8 div.sk-parallel-item:last-child::after {align-self: flex-start;width: 50%;}#sk-container-id-8 div.sk-parallel-item:only-child::after {width: 0;}#sk-container-id-8 div.sk-dashed-wrapped {border: 1px dashed gray;margin: 0 0.4em 0.5em 0.4em;box-sizing: border-box;padding-bottom: 0.4em;background-color: white;}#sk-container-id-8 div.sk-label label {font-family: monospace;font-weight: bold;display: inline-block;line-height: 1.2em;}#sk-container-id-8 div.sk-label-container {text-align: center;}#sk-container-id-8 div.sk-container {/* jupyter's `normalize.less` sets `[hidden] { display: none; }` but bootstrap.min.css set `[hidden] { display: none !important; }` so we also need the `!important` here to be able to override the default hidden behavior on the sphinx rendered scikit-learn.org. See: https://github.com/scikit-learn/scikit-learn/issues/21755 */display: inline-block !important;position: relative;}#sk-container-id-8 div.sk-text-repr-fallback {display: none;}</style><div id=\"sk-container-id-8\" class=\"sk-top-container\"><div class=\"sk-text-repr-fallback\"><pre>MultinomialNB()</pre><b>In a Jupyter environment, please rerun this cell to show the HTML representation or trust the notebook. <br />On GitHub, the HTML representation is unable to render, please try loading this page with nbviewer.org.</b></div><div class=\"sk-container\" hidden><div class=\"sk-item\"><div class=\"sk-estimator sk-toggleable\"><input class=\"sk-toggleable__control sk-hidden--visually\" id=\"sk-estimator-id-8\" type=\"checkbox\" checked><label for=\"sk-estimator-id-8\" class=\"sk-toggleable__label sk-toggleable__label-arrow\">MultinomialNB</label><div class=\"sk-toggleable__content\"><pre>MultinomialNB()</pre></div></div></div></div></div>"
      ],
      "text/plain": [
       "MultinomialNB()"
      ]
     },
     "execution_count": 117,
     "metadata": {},
     "output_type": "execute_result"
    }
   ],
   "source": [
    "model.fit(Xtrain,ytrain)"
   ]
  },
  {
   "cell_type": "code",
   "execution_count": 118,
   "id": "3b6ae8da-7b92-4e72-a912-4461d14e0f1f",
   "metadata": {},
   "outputs": [],
   "source": [
    "ypred=model.predict(Xtest)"
   ]
  },
  {
   "cell_type": "code",
   "execution_count": 119,
   "id": "755c4c71-c70e-4a98-863c-14cb82fe2a45",
   "metadata": {},
   "outputs": [],
   "source": [
    "from sklearn.metrics import confusion_matrix,classification_report"
   ]
  },
  {
   "cell_type": "code",
   "execution_count": 120,
   "id": "1a50e277-cd65-4673-bb51-7b9f69e5214c",
   "metadata": {},
   "outputs": [
    {
     "data": {
      "text/plain": [
       "array([[948,   1],\n",
       "       [132,  34]], dtype=int64)"
      ]
     },
     "execution_count": 120,
     "metadata": {},
     "output_type": "execute_result"
    }
   ],
   "source": [
    "cm=confusion_matrix(ytest,ypred)\n",
    "cm"
   ]
  },
  {
   "cell_type": "code",
   "execution_count": 121,
   "id": "968ad55b-31c6-4ff9-9f48-85facc57075d",
   "metadata": {},
   "outputs": [
    {
     "data": {
      "text/plain": [
       "<Axes: >"
      ]
     },
     "execution_count": 121,
     "metadata": {},
     "output_type": "execute_result"
    },
    {
     "data": {
      "image/png": "[encoded data removed]",
      "text/plain": [
       "<Figure size 640x480 with 2 Axes>"
      ]
     },
     "metadata": {},
     "output_type": "display_data"
    }
   ],
   "source": [
    "sns.heatmap(cm,annot=True,cmap=\"viridis\")"
   ]
  },
  {
   "cell_type": "code",
   "execution_count": 122,
   "id": "13f40f73-735a-4891-a759-a3710a0db779",
   "metadata": {},
   "outputs": [
    {
     "name": "stdout",
     "output_type": "stream",
     "text": [
      "              precision    recall  f1-score   support\n",
      "\n",
      "           0       0.88      1.00      0.93       949\n",
      "           1       0.97      0.20      0.34       166\n",
      "\n",
      "    accuracy                           0.88      1115\n",
      "   macro avg       0.92      0.60      0.64      1115\n",
      "weighted avg       0.89      0.88      0.85      1115\n",
      "\n"
     ]
    }
   ],
   "source": [
    "print(classification_report(ytest,ypred))"
   ]
  },
  {
   "cell_type": "code",
   "execution_count": 123,
   "id": "e872d61d-5f82-46be-aad9-771ba4431e03",
   "metadata": {},
   "outputs": [],
   "source": [
    "from sklearn.ensemble import RandomForestClassifier"
   ]
  },
  {
   "cell_type": "code",
   "execution_count": 124,
   "id": "a4b774c8-e3d4-4823-a5e2-5ec40bb8280a",
   "metadata": {},
   "outputs": [],
   "source": [
    "model2=RandomForestClassifier()"
   ]
  },
  {
   "cell_type": "code",
   "execution_count": 125,
   "id": "47b1329a-728c-480c-812a-e1808d601168",
   "metadata": {},
   "outputs": [
    {
     "name": "stderr",
     "output_type": "stream",
     "text": [
      "C:\\Users\\SOUMYA\\AppData\\Local\\Temp\\ipykernel_11212\\2029726956.py:1: DataConversionWarning: A column-vector y was passed when a 1d array was expected. Please change the shape of y to (n_samples,), for example using ravel().\n",
      "  model2.fit(Xtrain,ytrain)\n"
     ]
    },
    {
     "data": {
      "text/html": [
       "<style>#sk-container-id-9 {color: black;background-color: white;}#sk-container-id-9 pre{padding: 0;}#sk-container-id-9 div.sk-toggleable {background-color: white;}#sk-container-id-9 label.sk-toggleable__label {cursor: pointer;display: block;width: 100%;margin-bottom: 0;padding: 0.3em;box-sizing: border-box;text-align: center;}#sk-container-id-9 label.sk-toggleable__label-arrow:before {content: \"▸\";float: left;margin-right: 0.25em;color: #696969;}#sk-container-id-9 label.sk-toggleable__label-arrow:hover:before {color: black;}#sk-container-id-9 div.sk-estimator:hover label.sk-toggleable__label-arrow:before {color: black;}#sk-container-id-9 div.sk-toggleable__content {max-height: 0;max-width: 0;overflow: hidden;text-align: left;background-color: #f0f8ff;}#sk-container-id-9 div.sk-toggleable__content pre {margin: 0.2em;color: black;border-radius: 0.25em;background-color: #f0f8ff;}#sk-container-id-9 input.sk-toggleable__control:checked~div.sk-toggleable__content {max-height: 200px;max-width: 100%;overflow: auto;}#sk-container-id-9 input.sk-toggleable__control:checked~label.sk-toggleable__label-arrow:before {content: \"▾\";}#sk-container-id-9 div.sk-estimator input.sk-toggleable__control:checked~label.sk-toggleable__label {background-color: #d4ebff;}#sk-container-id-9 div.sk-label input.sk-toggleable__control:checked~label.sk-toggleable__label {background-color: #d4ebff;}#sk-container-id-9 input.sk-hidden--visually {border: 0;clip: rect(1px 1px 1px 1px);clip: rect(1px, 1px, 1px, 1px);height: 1px;margin: -1px;overflow: hidden;padding: 0;position: absolute;width: 1px;}#sk-container-id-9 div.sk-estimator {font-family: monospace;background-color: #f0f8ff;border: 1px dotted black;border-radius: 0.25em;box-sizing: border-box;margin-bottom: 0.5em;}#sk-container-id-9 div.sk-estimator:hover {background-color: #d4ebff;}#sk-container-id-9 div.sk-parallel-item::after {content: \"\";width: 100%;border-bottom: 1px solid gray;flex-grow: 1;}#sk-container-id-9 div.sk-label:hover label.sk-toggleable__label {background-color: #d4ebff;}#sk-container-id-9 div.sk-serial::before {content: \"\";position: absolute;border-left: 1px solid gray;box-sizing: border-box;top: 0;bottom: 0;left: 50%;z-index: 0;}#sk-container-id-9 div.sk-serial {display: flex;flex-direction: column;align-items: center;background-color: white;padding-right: 0.2em;padding-left: 0.2em;position: relative;}#sk-container-id-9 div.sk-item {position: relative;z-index: 1;}#sk-container-id-9 div.sk-parallel {display: flex;align-items: stretch;justify-content: center;background-color: white;position: relative;}#sk-container-id-9 div.sk-item::before, #sk-container-id-9 div.sk-parallel-item::before {content: \"\";position: absolute;border-left: 1px solid gray;box-sizing: border-box;top: 0;bottom: 0;left: 50%;z-index: -1;}#sk-container-id-9 div.sk-parallel-item {display: flex;flex-direction: column;z-index: 1;position: relative;background-color: white;}#sk-container-id-9 div.sk-parallel-item:first-child::after {align-self: flex-end;width: 50%;}#sk-container-id-9 div.sk-parallel-item:last-child::after {align-self: flex-start;width: 50%;}#sk-container-id-9 div.sk-parallel-item:only-child::after {width: 0;}#sk-container-id-9 div.sk-dashed-wrapped {border: 1px dashed gray;margin: 0 0.4em 0.5em 0.4em;box-sizing: border-box;padding-bottom: 0.4em;background-color: white;}#sk-container-id-9 div.sk-label label {font-family: monospace;font-weight: bold;display: inline-block;line-height: 1.2em;}#sk-container-id-9 div.sk-label-container {text-align: center;}#sk-container-id-9 div.sk-container {/* jupyter's `normalize.less` sets `[hidden] { display: none; }` but bootstrap.min.css set `[hidden] { display: none !important; }` so we also need the `!important` here to be able to override the default hidden behavior on the sphinx rendered scikit-learn.org. See: https://github.com/scikit-learn/scikit-learn/issues/21755 */display: inline-block !important;position: relative;}#sk-container-id-9 div.sk-text-repr-fallback {display: none;}</style><div id=\"sk-container-id-9\" class=\"sk-top-container\"><div class=\"sk-text-repr-fallback\"><pre>RandomForestClassifier()</pre><b>In a Jupyter environment, please rerun this cell to show the HTML representation or trust the notebook. <br />On GitHub, the HTML representation is unable to render, please try loading this page with nbviewer.org.</b></div><div class=\"sk-container\" hidden><div class=\"sk-item\"><div class=\"sk-estimator sk-toggleable\"><input class=\"sk-toggleable__control sk-hidden--visually\" id=\"sk-estimator-id-9\" type=\"checkbox\" checked><label for=\"sk-estimator-id-9\" class=\"sk-toggleable__label sk-toggleable__label-arrow\">RandomForestClassifier</label><div class=\"sk-toggleable__content\"><pre>RandomForestClassifier()</pre></div></div></div></div></div>"
      ],
      "text/plain": [
       "RandomForestClassifier()"
      ]
     },
     "execution_count": 125,
     "metadata": {},
     "output_type": "execute_result"
    }
   ],
   "source": [
    "model2.fit(Xtrain,ytrain)"
   ]
  },
  {
   "cell_type": "code",
   "execution_count": 126,
   "id": "576123c3-0c17-47e3-8524-804be07cf625",
   "metadata": {},
   "outputs": [],
   "source": [
    "ypred2=model2.predict(Xtest)"
   ]
  },
  {
   "cell_type": "code",
   "execution_count": 127,
   "id": "9570ec10-3ee6-4b9a-ae1a-688ae77782f7",
   "metadata": {},
   "outputs": [
    {
     "data": {
      "text/plain": [
       "array([[948,   1],\n",
       "       [132,  34]], dtype=int64)"
      ]
     },
     "execution_count": 127,
     "metadata": {},
     "output_type": "execute_result"
    }
   ],
   "source": [
    "cm2=confusion_matrix(ytest,ypred2)\n",
    "cm2"
   ]
  },
  {
   "cell_type": "code",
   "execution_count": 128,
   "id": "f156de58-02c6-4ef4-8aba-7c6f5c5e7cc9",
   "metadata": {},
   "outputs": [
    {
     "name": "stdout",
     "output_type": "stream",
     "text": [
      "              precision    recall  f1-score   support\n",
      "\n",
      "           0       0.88      1.00      0.93       949\n",
      "           1       0.97      0.20      0.34       166\n",
      "\n",
      "    accuracy                           0.88      1115\n",
      "   macro avg       0.92      0.60      0.64      1115\n",
      "weighted avg       0.89      0.88      0.85      1115\n",
      "\n"
     ]
    }
   ],
   "source": [
    "print(classification_report(ytest,ypred2))"
   ]
  },
  {
   "cell_type": "code",
   "execution_count": 129,
   "id": "1516ead9-ceae-4462-ac9a-ef2a7e49e3ef",
   "metadata": {},
   "outputs": [
    {
     "data": {
      "text/plain": [
       "<Axes: >"
      ]
     },
     "execution_count": 129,
     "metadata": {},
     "output_type": "execute_result"
    },
    {
     "data": {
      "image/png": "[encoded data removed]",
      "text/plain": [
       "<Figure size 640x480 with 2 Axes>"
      ]
     },
     "metadata": {},
     "output_type": "display_data"
    }
   ],
   "source": [
    "sns.heatmap(cm2,annot=True,cmap=\"viridis\")"
   ]
  },
  {
   "cell_type": "code",
   "execution_count": 130,
   "id": "7534fad5-3638-47be-8a36-1265662164f8",
   "metadata": {},
   "outputs": [
    {
     "data": {
      "text/plain": [
       "10"
      ]
     },
     "execution_count": 130,
     "metadata": {},
     "output_type": "execute_result"
    }
   ],
   "source": [
    "len(X[0])"
   ]
  },
  {
   "cell_type": "code",
   "execution_count": 131,
   "id": "bff1b707-517f-47ff-993b-3d2e05ccb58c",
   "metadata": {},
   "outputs": [],
   "source": [
    "messege=[0,0,1,0,1,0,0,1,0,1]"
   ]
  },
  {
   "cell_type": "code",
   "execution_count": 149,
   "id": "874258ae-8716-41f2-a623-10db97e9dac0",
   "metadata": {},
   "outputs": [
    {
     "data": {
      "text/plain": [
       "0"
      ]
     },
     "execution_count": 149,
     "metadata": {},
     "output_type": "execute_result"
    }
   ],
   "source": [
    "model.predict([[0,0,0,0,0,0,1,0,1,0]])[0]"
   ]
  },
  {
   "cell_type": "code",
   "execution_count": null,
   "id": "8c90a6de-b0a8-4699-95b6-3967f202945a",
   "metadata": {},
   "outputs": [],
   "source": []
  }
 ],
 "metadata": {
  "kernelspec": {
   "display_name": "Python 3 (ipykernel)",
   "language": "python",
   "name": "python3"
  },
  "language_info": {
   "codemirror_mode": {
    "name": "ipython",
    "version": 3
   },
   "file_extension": ".py",
   "mimetype": "text/x-python",
   "name": "python",
   "nbconvert_exporter": "python",
   "pygments_lexer": "ipython3",
   "version": "3.11.4"
  }
 },
 "nbformat": 4,
 "nbformat_minor": 5
}
